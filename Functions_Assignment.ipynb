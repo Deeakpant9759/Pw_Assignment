{
  "nbformat": 4,
  "nbformat_minor": 0,
  "metadata": {
    "colab": {
      "provenance": [],
      "authorship_tag": "ABX9TyMiekTKTMq/IvC9sLshete9",
      "include_colab_link": true
    },
    "kernelspec": {
      "name": "python3",
      "display_name": "Python 3"
    },
    "language_info": {
      "name": "python"
    }
  },
  "cells": [
    {
      "cell_type": "markdown",
      "metadata": {
        "id": "view-in-github",
        "colab_type": "text"
      },
      "source": [
        "<a href=\"https://colab.research.google.com/github/Deeakpant9759/Pw_Assignment/blob/master/Functions_Assignment.ipynb\" target=\"_parent\"><img src=\"https://colab.research.google.com/assets/colab-badge.svg\" alt=\"Open In Colab\"/></a>"
      ]
    },
    {
      "cell_type": "markdown",
      "metadata": {
        "id": "8310f7db"
      },
      "source": [
        "## Question 1:\n",
        "What is the difference between a function and a method in Python?\n",
        "\n",
        "**Answer:** A function is a chunk or block of code that can be reusable. method is the part of an object or class.\n",
        "\n",
        "example: def newfuc(): return 'whatever' that is funciton we can reuse it mutiple time just we have to call the newfuc which is function and in method we can do same but that would be a part of class like str.spilt here str is a class and split is a method of its."
      ]
    },
    {
      "cell_type": "markdown",
      "metadata": {
        "id": "d178aa9a"
      },
      "source": [
        "## Question 2:\n",
        "Explain the concept of function arguments and parameters in Python.\n",
        "\n",
        "**Answer:** The funciton arguements are those values or actual data that was given in function call. and parameters are the varibale we give them. in simple words when we difine a function the varible inside the funciton are parameters. when we call the funciton the real values passed to function that are arguements.\n",
        "\n",
        "Example: def function(a,b):#here the a, b are varible menas there are parameters\n",
        "                return \"nothing\"\n",
        "function(2,3)#here i passed the values 2,3 in the place of variable so these are the arguments"
      ]
    },
    {
      "cell_type": "markdown",
      "metadata": {
        "id": "c401a831"
      },
      "source": [
        "## Question 3:\n",
        "What are the different ways to define and call a function in Python?\n",
        "\n",
        "**Answer:**There are only two way to define function is using def keyword and 2nd is lamda keyword\n",
        "\n",
        "Example: def whatever(): z = lamda x:x\n",
        "\n",
        "we can call function by using the name of function and then give our needed aruguments to the funciotn to excute\n",
        "\n",
        "Example: whatever(),z() new we can create a object form that or  direct print them."
      ]
    },
    {
      "cell_type": "markdown",
      "metadata": {
        "id": "b002d420"
      },
      "source": [
        "## Question 4:\n",
        "What is the purpose of the `return` statement in a Python function?\n",
        "\n",
        "**Answer:**The return statement stop the function and gives the value what where give to that to give if nothing was given the it return non\n",
        "\n",
        "Example:\n",
        "  def myname(x):\n",
        "      return x\n",
        "  print(myname(\"deepak\"))\n",
        "  will print deepak if i pass return x to return it will print none"
      ]
    },
    {
      "cell_type": "markdown",
      "metadata": {
        "id": "bfcda9cc"
      },
      "source": [
        "## Question 5:\n",
        "What are iterators in Python and how do they differ from iterables?\n",
        "\n",
        "**Answer:**Iterables are those data types or objects that can be iterated menas we can access each item form them by loop over them.\n",
        "iterators are those tools which actully do the iteration menas wihout looping over them we can access each item one by one and they remember which was last accessed and then give the next till end.\n",
        "\n",
        "in simple words iterables things that can be itrated and itertor that actully do the itration.\n",
        "\n",
        "EXample:\n",
        "list = [1,2,3,4,5,6]\n",
        "now i can access each item using loop but if i create it to itretor we can do same\n",
        "\n",
        " so we have to do like this\n",
        "\n",
        "l_it = iter(list)\n",
        "now we have a object l_it so if i want to access item form them we have to just do like this\n",
        "next(l_it) we can access all the item one by one form the list"
      ]
    },
    {
      "cell_type": "markdown",
      "metadata": {
        "id": "145fc213"
      },
      "source": [
        "## Question 6:\n",
        "Explain the concept of generators in Python and how they are defined.\n",
        "\n",
        "**Answer:** Generators in python are relted to iterators but they are special type of iteators they are very powerfull and memory efficent in a larget data set they works like this they produces values on fly or Lazy evaluation means to say we create a genrator and then we pass a values to it unless we needed that values the process will be stoped till the values will called .\n",
        "\n",
        "In simple words instead of excution whole data in one time that would take time and space we use generators to do that task when we needed.\n",
        "\n",
        "They are defined using yield keyword.\n",
        "\n",
        "example:\n",
        "\n",
        "def square(n):\n",
        "  for x in n:\n",
        "    yield x**2\n",
        "  square([1,23,4,5,5])\n",
        "\n",
        "  now i have used here yield instead of return now what will happen code will run as useual but when the funcion start running first it will excute values at index 0 form list and stops not will excute next until the values is accessed using next .\n",
        "\n",
        "  data = square([1,23,4,5,5])\n",
        "\n",
        "  if i want to access each square i have to do just like this\n",
        "\n",
        "  next(data) unitl it end."
      ]
    },
    {
      "cell_type": "markdown",
      "metadata": {
        "id": "da1e269a"
      },
      "source": [
        "## Question 7:\n",
        "What are the advantages of using generators over regular functions?\n",
        "\n",
        "**Answer:**  we can access single itme using the next() avoid unessasy computaiton they are very usefull in realworld reading huge log files generators saves memroy and gives speed.\n",
        "and they we very usefull when we need somthing then we excute  no extra space. very helpful on that.\n"
      ]
    },
    {
      "cell_type": "markdown",
      "metadata": {
        "id": "f751f0d0"
      },
      "source": [
        "## Question 8:\n",
        "What is a lambda function in Python and when is it typically used?\n",
        "\n",
        "**Answer:** Lambda is Anonymous (Anonymous means it doesn't require a name though you can assign it to a variable) funntion in python they are use to make a funciotn short menas in short like we can make a function working same like regular function lambda funtion syntax is simple and easy to use with sort line of time.\n",
        "They are typically used in functional programming: with map(), filter(), sorted(), etc.\n",
        "\n",
        "we can create then using lambda keyword\n",
        "\n",
        "lambda syntax --> lambda parameter : expression (logic)\n",
        "example:\n",
        "\n",
        "func = lambda x:x\n",
        "here x is a parameter passed into lambda and after : the logic is wirte what ever we want to do what that if  i want to call the funciton i  have just pass the argument inside the funciton like func(6)\n"
      ]
    },
    {
      "cell_type": "markdown",
      "metadata": {
        "id": "238afe20"
      },
      "source": [
        "## Question 9:\n",
        "Explain the purpose and usage of the `map()` function in Python.\n",
        "\n",
        "**Answer:**Map is used to to apply a funciton to each item of iterable like list , tuple etc. without using loop.\n",
        "\n",
        "it returns a map object basicly an itretor that can be converted to an iterable\n",
        "\n",
        "the syntax of map is like this\n",
        "\n",
        "map(function,itreable) ---> function is what we want to apply  in each element of itreable\n",
        "\n",
        "example:\n",
        "\n",
        "x = map(lambda x:x**2,[1,2,3,4])\n",
        "print(x) --> this will return the map object to get iterable we have to do like this ,\n",
        "\n",
        "list(x)"
      ]
    },
    {
      "cell_type": "markdown",
      "metadata": {
        "id": "5d2305d3"
      },
      "source": [
        "## Question 10:\n",
        "What is the difference between `map()`, `reduce()`, and `filter()` functions in Python?\n",
        "\n",
        "**Answer:** map() is used to apply a function on each item of iterable\n",
        "\n",
        " reduce is used to  apply a function cumulatively to the items of an iterable, reducing the iterable to a single value. in simple words keep combining items step by step until one result remains.\n",
        "\n",
        " filter is used to extract only specific or condintional item form the list. for example i wnat the data form the list which have age greator then 21 we use filter to it,\n",
        "\n",
        " Example from functools import reduce\n",
        "\n",
        "Original list\n",
        "numbers = [1, 2, 3, 4, 5, 6]\n",
        "\n",
        " Step 1: Use map to square each number\n",
        "squared = map(lambda x: x**2, numbers)\n",
        "print(\"Squared:\", list(squared))  # [1, 4, 9, 16, 25, 36]\n",
        "\n",
        "Step 2: Use filter to keep only even squares\n",
        "even_squares = filter(lambda x: x%2==0, map(lambda x: x**2, numbers))\n",
        "print(\"Even squares:\", list(even_squares))  # [4, 16, 36]\n",
        "\n",
        " Step 3: Use reduce to sum all even squares\n",
        "total = reduce(lambda x, y: x + y, filter(lambda x: x%2==0, map(lambda x: x**2, numbers)))\n",
        "print(\"Sum of even squares:\", total)  # 56"
      ]
    },
    {
      "cell_type": "markdown",
      "source": [
        "`11. Using pen & Paper write the internal mechanism for sum operation using  reduce function on this given  functions in Python? list:[47,11,42,13];"
      ],
      "metadata": {
        "id": "Mtq43_MHECh2"
      }
    },
    {
      "cell_type": "markdown",
      "metadata": {
        "id": "76d24b89"
      },
      "source": [
        "## Question 11:\n",
        "Using pen & Paper write the internal mechanism for sum operation using  reduce function on this given functions in Python? list:[47,11,42,13];\n",
        "\n",
        "**Answer:**"
      ]
    },
    {
      "cell_type": "markdown",
      "source": [
        "#Practicle Quesitons"
      ],
      "metadata": {
        "id": "-JXyxMXfFkXM"
      }
    },
    {
      "cell_type": "code",
      "metadata": {
        "colab": {
          "base_uri": "https://localhost:8080/"
        },
        "id": "57b7621c",
        "outputId": "def26a89-49f3-45d0-c8c2-f0fe04a526b2"
      },
      "source": [
        "# 1. Write a Python function that takes a list of numbers as input and returns the sum of all even numbers in the list.\n",
        "\n",
        "def sum_even_numbers(numbers):\n",
        "    sum = 0\n",
        "    for num in numbers:\n",
        "      if num%2==0:\n",
        "        sum+=num\n",
        "    return sum\n",
        "print(sum_even_numbers([1,2,3,4,5,6,7,8,9,10]))"
      ],
      "execution_count": null,
      "outputs": [
        {
          "output_type": "stream",
          "name": "stdout",
          "text": [
            "30\n"
          ]
        }
      ]
    },
    {
      "cell_type": "code",
      "metadata": {
        "id": "666ac260",
        "colab": {
          "base_uri": "https://localhost:8080/"
        },
        "outputId": "0944f2d1-085c-4808-a1aa-36baa8efc7c6"
      },
      "source": [
        "# 2. Create a Python function that accepts a string and returns the reverse of that string.\n",
        "def reverse(string):\n",
        "  return string[::-1]\n",
        "print(reverse(\"deepak\"))"
      ],
      "execution_count": null,
      "outputs": [
        {
          "output_type": "stream",
          "name": "stdout",
          "text": [
            "kapeed\n"
          ]
        }
      ]
    },
    {
      "cell_type": "code",
      "metadata": {
        "id": "f8f280cb",
        "colab": {
          "base_uri": "https://localhost:8080/"
        },
        "outputId": "0a4d298f-0711-48cc-8a16-8c8e75925686"
      },
      "source": [
        "# 3. Implement a Python function that takes a list of integers and returns a new list containing the squares of each number.\n",
        "def square(numbers):\n",
        "  x = map(lambda x:x**2,numbers)\n",
        "  return list(x)\n",
        "print(square([1,2,3,4,5,6,7,8,9,10]))"
      ],
      "execution_count": null,
      "outputs": [
        {
          "output_type": "stream",
          "name": "stdout",
          "text": [
            "[1, 4, 9, 16, 25, 36, 49, 64, 81, 100]\n"
          ]
        }
      ]
    },
    {
      "cell_type": "code",
      "metadata": {
        "id": "c5e959ec",
        "colab": {
          "base_uri": "https://localhost:8080/"
        },
        "outputId": "58bc5c33-9700-46b0-a01d-b5b30a7cb36d"
      },
      "source": [
        "# 4. Write a Python function that checks if a given number is prime or not from 1 to 200.\n",
        "def check_prime(n):\n",
        "  if n<2:\n",
        "    return False\n",
        "  if n ==2:\n",
        "    return True\n",
        "  for i in range(2,n):\n",
        "    if n%i==0:\n",
        "      return False\n",
        "  return True\n",
        "for i in range(1,201):\n",
        "  if check_prime(i):\n",
        "    print(i)"
      ],
      "execution_count": null,
      "outputs": [
        {
          "output_type": "stream",
          "name": "stdout",
          "text": [
            "2\n",
            "3\n",
            "5\n",
            "7\n",
            "11\n",
            "13\n",
            "17\n",
            "19\n",
            "23\n",
            "29\n",
            "31\n",
            "37\n",
            "41\n",
            "43\n",
            "47\n",
            "53\n",
            "59\n",
            "61\n",
            "67\n",
            "71\n",
            "73\n",
            "79\n",
            "83\n",
            "89\n",
            "97\n",
            "101\n",
            "103\n",
            "107\n",
            "109\n",
            "113\n",
            "127\n",
            "131\n",
            "137\n",
            "139\n",
            "149\n",
            "151\n",
            "157\n",
            "163\n",
            "167\n",
            "173\n",
            "179\n",
            "181\n",
            "191\n",
            "193\n",
            "197\n",
            "199\n"
          ]
        }
      ]
    },
    {
      "cell_type": "code",
      "metadata": {
        "id": "643f684c",
        "colab": {
          "base_uri": "https://localhost:8080/"
        },
        "outputId": "9d4a04d7-c181-4646-a30e-2330c46031a3"
      },
      "source": [
        "# 5. Create an iterator class in Python that generates the Fibonacci sequence up to a specified number of terms.\n",
        "number = int(input(\"Enter the number of terms: \"))\n",
        "def fibonacci(number):\n",
        "  first,second = 0,1\n",
        "  for i in range(number):\n",
        "    yield first\n",
        "    first,second = second,first+second\n",
        "fib = fibonacci(number)\n",
        "for _ in range(number):\n",
        "  print(next(fib),end=' ')"
      ],
      "execution_count": null,
      "outputs": [
        {
          "output_type": "stream",
          "name": "stdout",
          "text": [
            "Enter the number of terms: 10\n",
            "0 1 1 2 3 5 8 13 21 34 "
          ]
        }
      ]
    },
    {
      "cell_type": "code",
      "metadata": {
        "id": "fdce0926",
        "colab": {
          "base_uri": "https://localhost:8080/"
        },
        "outputId": "09a1c21e-1d32-4d67-e2c4-67237f9bff0a"
      },
      "source": [
        "# 6. Write a generator function in Python that yields the powers of 2 up to a given exponent.\n",
        "exponent = int(input(\"Hey enter the number: \"))\n",
        "def power_of_two(exponent):\n",
        "  for i in range(exponent+1):\n",
        "    yield i**2\n",
        "power = power_of_two(exponent)\n",
        "for _ in range(exponent+1):\n",
        "  print(next(power),end=' ')"
      ],
      "execution_count": null,
      "outputs": [
        {
          "output_type": "stream",
          "name": "stdout",
          "text": [
            "Hey enter the number: 9\n",
            "0 1 4 9 16 25 36 49 64 81 "
          ]
        }
      ]
    },
    {
      "cell_type": "code",
      "metadata": {
        "id": "85c54a6d",
        "colab": {
          "base_uri": "https://localhost:8080/"
        },
        "outputId": "31b575f7-dc3c-48f1-c5fc-685ac97acdba"
      },
      "source": [
        "# 7. Implement a generator function that reads a file line by line and yields each line as a string.\n",
        "def read_file(filename):\n",
        "  for line in filename:\n",
        "    yield line.strip()\n",
        "file='''Python is a powerful programming language used for data analysis, AI, and automation.\n",
        "It supports both object-oriented and functional programming styles.\n",
        "Generators in Python allow lazy evaluation, saving memory on large data processing.\n",
        "Iterators and generators are the foundation of Python’s iteration protocol.\n",
        "Learning them helps you write more efficient and readable code.\n",
        "'''\n",
        "for line in read_file(file):\n",
        "  print(line,end=' ')\n",
        "##According to quesiton we have to use with funciton that is not taught yet still i  know how to use that so.Here is the correct soln for that.\n",
        "with open(\"sample.txt\",'w') as f:\n",
        "  f.write('''Python is a powerful programming language used for data analysis, AI, and automation.\n",
        "It supports both object-oriented and functional programming styles.\n",
        "Generators in Python allow lazy evaluation, saving memory on large data processing.\n",
        "Iterators and generators are the foundation of Python’s iteration protocol.\n",
        "Learning them helps you write more efficient and readable code.\n",
        "''')\n",
        "print(\"\\n\")\n",
        "def file_read(file):\n",
        "  with open(file,'r') as f:\n",
        "    for line in f:\n",
        "      yield line.strip()\n",
        "for line in file_read('sample.txt'):\n",
        "  print(line)\n",
        "\n",
        "\n",
        "\n",
        "\n"
      ],
      "execution_count": null,
      "outputs": [
        {
          "output_type": "stream",
          "name": "stdout",
          "text": [
            "P y t h o n  i s  a  p o w e r f u l  p r o g r a m m i n g  l a n g u a g e  u s e d  f o r  d a t a  a n a l y s i s ,  A I ,  a n d  a u t o m a t i o n .  I t  s u p p o r t s  b o t h  o b j e c t - o r i e n t e d  a n d  f u n c t i o n a l  p r o g r a m m i n g  s t y l e s .  G e n e r a t o r s  i n  P y t h o n  a l l o w  l a z y  e v a l u a t i o n ,  s a v i n g  m e m o r y  o n  l a r g e  d a t a  p r o c e s s i n g .  I t e r a t o r s  a n d  g e n e r a t o r s  a r e  t h e  f o u n d a t i o n  o f  P y t h o n ’ s  i t e r a t i o n  p r o t o c o l .  L e a r n i n g  t h e m  h e l p s  y o u  w r i t e  m o r e  e f f i c i e n t  a n d  r e a d a b l e  c o d e .  \n",
            "\n",
            "Python is a powerful programming language used for data analysis, AI, and automation.\n",
            "It supports both object-oriented and functional programming styles.\n",
            "Generators in Python allow lazy evaluation, saving memory on large data processing.\n",
            "Iterators and generators are the foundation of Python’s iteration protocol.\n",
            "Learning them helps you write more efficient and readable code.\n"
          ]
        }
      ]
    },
    {
      "cell_type": "code",
      "metadata": {
        "id": "7e5607c2",
        "colab": {
          "base_uri": "https://localhost:8080/"
        },
        "outputId": "2ff0b77e-9fd6-4072-e6c4-5b75c5a4e3b5"
      },
      "source": [
        "# 8. Use a lambda function in Python to sort a list of tuples based on the second element of each tuple.\n",
        "l_t = [('Sachin Tendulkar', 34357), ('Ricky Ponting', 27483), ('Jack Kallis', 25534), ('Virat Kohli', 24936)]\n",
        "l_t.sort(key=lambda x:x[1])\n",
        "print(l_t)"
      ],
      "execution_count": null,
      "outputs": [
        {
          "output_type": "stream",
          "name": "stdout",
          "text": [
            "[('Virat Kohli', 24936), ('Jack Kallis', 25534), ('Ricky Ponting', 27483), ('Sachin Tendulkar', 34357)]\n"
          ]
        }
      ]
    },
    {
      "cell_type": "code",
      "metadata": {
        "id": "9561c251",
        "colab": {
          "base_uri": "https://localhost:8080/"
        },
        "outputId": "9a1a6c0f-84b0-4489-ada6-2375fe9dda5a"
      },
      "source": [
        "# 9. Write a Python program that uses `map()` to convert a list of temperatures from Celsius to Fahrenheit.\n",
        "temp_cel = [39.2, 36.5, 37.3, 38, 37.8]\n",
        "temp_far = list(map((lambda x:round(x*1.8 +32,2)),temp_cel))\n",
        "print(temp_far)"
      ],
      "execution_count": null,
      "outputs": [
        {
          "output_type": "stream",
          "name": "stdout",
          "text": [
            "[102.56, 97.7, 99.14, 100.4, 100.04]\n"
          ]
        }
      ]
    },
    {
      "cell_type": "code",
      "source": [
        "# 10. Create a Python program that uses `filter()` to remove all the vowels from a given string.\n",
        "string = \"Deepak\"\n",
        "filtered_string = \"\".join(filter(lambda x:x not in ['a','e','i','o','u'],string))\n",
        "print(str(filtered_string))"
      ],
      "metadata": {
        "id": "reaLLh1FFd5F",
        "colab": {
          "base_uri": "https://localhost:8080/"
        },
        "outputId": "6a20d7b4-c6d1-4f3f-9b54-c19efa67bb64"
      },
      "execution_count": null,
      "outputs": [
        {
          "output_type": "stream",
          "name": "stdout",
          "text": [
            "Dpk\n"
          ]
        }
      ]
    },
    {
      "cell_type": "code",
      "source": [
        "# 11) Imagine an accounting routine used in a book shop. It works on a list with sublists, which look like this: Write a Python program, which returns a list with 2-tuples. Each tuple consists of the order number and the product of the price per item and the quantity. The product should be increased by 10,- € if the value of the order is smaller than 100,00 €. Write a Python program using lambda and map.\n",
        "orders = [\n",
        "    [34587, \"Learning Python, Mark Lutz\", 4, 40.95],\n",
        "    [98762, \"Programming Python, Mark Lutz\", 5, 56.80],\n",
        "    [77226, \"Head First Python, Paul Barry\", 3, 32.95],\n",
        "    [88112, \"Einführung in Python3, Bernd Klein\", 3, 24.99]\n",
        "]\n",
        "\n",
        "result = list(map(lambda x:(x[0],\n",
        "                            round(x[2]*x[3],2) if x[2]*x[3]>=100 else round(x[2]*x[3]+10,2)),orders))\n",
        "print(result)\n",
        "\n"
      ],
      "metadata": {
        "id": "nKoGiJnTFeog",
        "colab": {
          "base_uri": "https://localhost:8080/"
        },
        "outputId": "e8e56463-5e81-4f27-f6e1-af728f4231e2"
      },
      "execution_count": null,
      "outputs": [
        {
          "output_type": "stream",
          "name": "stdout",
          "text": [
            "[(34587, 163.8), (98762, 284.0), (77226, 108.85), (88112, 84.97)]\n"
          ]
        }
      ]
    }
  ]
}