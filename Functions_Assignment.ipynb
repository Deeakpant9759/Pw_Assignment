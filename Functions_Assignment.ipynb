{
  "nbformat": 4,
  "nbformat_minor": 0,
  "metadata": {
    "colab": {
      "provenance": [],
      "authorship_tag": "ABX9TyMCSkTElPLEuQlvW03li8+b",
      "include_colab_link": true
    },
    "kernelspec": {
      "name": "python3",
      "display_name": "Python 3"
    },
    "language_info": {
      "name": "python"
    }
  },
  "cells": [
    {
      "cell_type": "markdown",
      "metadata": {
        "id": "view-in-github",
        "colab_type": "text"
      },
      "source": [
        "<a href=\"https://colab.research.google.com/github/Deeakpant9759/Pw_Assignment/blob/master/Functions_Assignment.ipynb\" target=\"_parent\"><img src=\"https://colab.research.google.com/assets/colab-badge.svg\" alt=\"Open In Colab\"/></a>"
      ]
    },
    {
      "cell_type": "markdown",
      "metadata": {
        "id": "8310f7db"
      },
      "source": [
        "## Question 1:\n",
        "What is the difference between a function and a method in Python?\n",
        "\n",
        "**Answer:** A function is a chunk or block of code that can be reusable. method is the part of an object or class.\n",
        "\n",
        "example: def newfuc(): return 'whatever' that is funciton we can reuse it mutiple time just we have to call the newfuc which is function and in method we can do same but that would be a part of class like str.spilt here str is a class and split is a method of its."
      ]
    },
    {
      "cell_type": "markdown",
      "metadata": {
        "id": "d178aa9a"
      },
      "source": [
        "## Question 2:\n",
        "Explain the concept of function arguments and parameters in Python.\n",
        "\n",
        "**Answer:** The funciton arguements are those values or actual data that was given in function call. and parameters are the varibale we give them. in simple words when we difine a function the varible inside the funciton are parameters. when we call the funciton the real values passed to function that are arguements.\n",
        "\n",
        "Example: def function(a,b):#here the a, b are varible menas there are parameters\n",
        "                return \"nothing\"\n",
        "function(2,3)#here i passed the values 2,3 in the place of variable so these are the arguments"
      ]
    },
    {
      "cell_type": "markdown",
      "metadata": {
        "id": "c401a831"
      },
      "source": [
        "## Question 3:\n",
        "What are the different ways to define and call a function in Python?\n",
        "\n",
        "**Answer:**There are only two way to define function is using def keyword and 2nd is lamda keyword\n",
        "\n",
        "Example: def whatever(): z = lamda x:x\n",
        "\n",
        "we can call function by using the name of function and then give our needed aruguments to the funciotn to excute\n",
        "\n",
        "Example: whatever(),z() new we can create a object form that or  direct print them."
      ]
    },
    {
      "cell_type": "markdown",
      "metadata": {
        "id": "b002d420"
      },
      "source": [
        "## Question 4:\n",
        "What is the purpose of the `return` statement in a Python function?\n",
        "\n",
        "**Answer:**The return statement stop the function and gives the value what where give to that to give if nothing was given the it return non\n",
        "\n",
        "Example:\n",
        "  def myname(x):\n",
        "      return x\n",
        "  print(myname(\"deepak\"))\n",
        "  will print deepak if i pass return x to return it will print none"
      ]
    },
    {
      "cell_type": "markdown",
      "metadata": {
        "id": "bfcda9cc"
      },
      "source": [
        "## Question 5:\n",
        "What are iterators in Python and how do they differ from iterables?\n",
        "\n",
        "**Answer:**Iterables are those data types or objects that can be iterated menas we can access each item form them by loop over them.\n",
        "iterators are those tools which actully do the iteration menas wihout looping over them we can access each item one by one and they remember which was last accessed and then give the next till end.\n",
        "\n",
        "in simple words iterables things that can be itrated and itertor that actully do the itration.\n",
        "\n",
        "EXample:\n",
        "list = [1,2,3,4,5,6]\n",
        "now i can access each item using loop but if i create it to itretor we can do same\n",
        "\n",
        " so we have to do like this\n",
        "\n",
        "l_it = iter(list)\n",
        "now we have a object l_it so if i want to access item form them we have to just do like this\n",
        "next(l_it) we can access all the item one by one form the list"
      ]
    },
    {
      "cell_type": "markdown",
      "metadata": {
        "id": "145fc213"
      },
      "source": [
        "## Question 6:\n",
        "Explain the concept of generators in Python and how they are defined.\n",
        "\n",
        "**Answer:** Generators in python are relted to iterators but they are special type of iteators they are very powerfull and memory efficent in a larget data set they works like this they produces values on fly or Lazy evaluation means to say we create a genrator and then we pass a values to it unless we needed that values the process will be stoped till the values will called .\n",
        "\n",
        "In simple words instead of excution whole data in one time that would take time and space we use generators to do that task when we needed.\n",
        "\n",
        "They are defined using yield keyword.\n",
        "\n",
        "example:\n",
        "\n",
        "def square(n):\n",
        "  for x in n:\n",
        "    yield x**2\n",
        "  square([1,23,4,5,5])\n",
        "\n",
        "  now i have used here yield instead of return now what will happen code will run as useual but when the funcion start running first it will excute values at index 0 form list and stops not will excute next until the values is accessed using next .\n",
        "\n",
        "  data = square([1,23,4,5,5])\n",
        "\n",
        "  if i want to access each square i have to do just like this\n",
        "\n",
        "  next(data) unitl it end."
      ]
    },
    {
      "cell_type": "markdown",
      "metadata": {
        "id": "da1e269a"
      },
      "source": [
        "## Question 7:\n",
        "What are the advantages of using generators over regular functions?\n",
        "\n",
        "**Answer:**  we can access single itme using the next() avoid unessasy computaiton they are very usefull in realworld reading huge log files generators saves memroy and gives speed.\n",
        "and they we very usefull when we need somthing then we excute  no extra space. very helpful on that.\n"
      ]
    },
    {
      "cell_type": "markdown",
      "metadata": {
        "id": "f751f0d0"
      },
      "source": [
        "## Question 8:\n",
        "What is a lambda function in Python and when is it typically used?\n",
        "\n",
        "**Answer:** Lambda is Anonymous (Anonymous means it doesn't require a name though you can assign it to a variable) funntion in python they are use to make a funciotn short menas in short like we can make a function working same like regular function lambda funtion syntax is simple and easy to use with sort line of time.\n",
        "They are typically used in functional programming: with map(), filter(), sorted(), etc.\n",
        "\n",
        "we can create then using lambda keyword\n",
        "\n",
        "lambda syntax --> lambda parameter : expression (logic)\n",
        "example:\n",
        "\n",
        "func = lambda x:x\n",
        "here x is a parameter passed into lambda and after : the logic is wirte what ever we want to do what that if  i want to call the funciton i  have just pass the argument inside the funciton like func(6)\n"
      ]
    },
    {
      "cell_type": "markdown",
      "metadata": {
        "id": "238afe20"
      },
      "source": [
        "## Question 9:\n",
        "Explain the purpose and usage of the `map()` function in Python.\n",
        "\n",
        "**Answer:**Map is used to to apply a funciton to each item of iterable like list , tuple etc. without using loop.\n",
        "\n",
        "it returns a map object basicly an itretor that can be converted to an iterable\n",
        "\n",
        "the syntax of map is like this\n",
        "\n",
        "map(function,itreable) ---> function is what we want to apply  in each element of itreable\n",
        "\n",
        "example:\n",
        "\n",
        "x = map(lambda x:x**2,[1,2,3,4])\n",
        "print(x) --> this will return the map object to get iterable we have to do like this ,\n",
        "\n",
        "list(x)"
      ]
    },
    {
      "cell_type": "markdown",
      "metadata": {
        "id": "5d2305d3"
      },
      "source": [
        "## Question 10:\n",
        "What is the difference between `map()`, `reduce()`, and `filter()` functions in Python?\n",
        "\n",
        "**Answer:** map() is used to apply a function on each item of iterable\n",
        "\n",
        " reduce is used to  apply a function cumulatively to the items of an iterable, reducing the iterable to a single value. in simple words keep combining items step by step until one result remains.\n",
        "\n",
        " filter is used to extract only specific or condintional item form the list. for example i wnat the data form the list which have age greator then 21 we use filter to it,\n",
        "\n",
        " Example from functools import reduce\n",
        "\n",
        "Original list\n",
        "numbers = [1, 2, 3, 4, 5, 6]\n",
        "\n",
        " Step 1: Use map to square each number\n",
        "squared = map(lambda x: x**2, numbers)\n",
        "print(\"Squared:\", list(squared))  # [1, 4, 9, 16, 25, 36]\n",
        "\n",
        "Step 2: Use filter to keep only even squares\n",
        "even_squares = filter(lambda x: x%2==0, map(lambda x: x**2, numbers))\n",
        "print(\"Even squares:\", list(even_squares))  # [4, 16, 36]\n",
        "\n",
        " Step 3: Use reduce to sum all even squares\n",
        "total = reduce(lambda x, y: x + y, filter(lambda x: x%2==0, map(lambda x: x**2, numbers)))\n",
        "print(\"Sum of even squares:\", total)  # 56"
      ]
    },
    {
      "cell_type": "markdown",
      "source": [
        "`11. Using pen & Paper write the internal mechanism for sum operation using  reduce function on this given  functions in Python? list:[47,11,42,13];"
      ],
      "metadata": {
        "id": "Mtq43_MHECh2"
      }
    },
    {
      "cell_type": "markdown",
      "metadata": {
        "id": "76d24b89"
      },
      "source": [
        "## Question 11:\n",
        "Using pen & Paper write the internal mechanism for sum operation using  reduce function on this given functions in Python? list:[47,11,42,13];\n",
        "\n",
        "**Answer:**![assiment .jpg](data:image/jpeg;base64,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)"
      ]
    },
    {
      "cell_type": "markdown",
      "source": [
        "#Practicle Quesitons"
      ],
      "metadata": {
        "id": "-JXyxMXfFkXM"
      }
    },
    {
      "cell_type": "code",
      "metadata": {
        "colab": {
          "base_uri": "https://localhost:8080/"
        },
        "id": "57b7621c",
        "outputId": "def26a89-49f3-45d0-c8c2-f0fe04a526b2"
      },
      "source": [
        "# 1. Write a Python function that takes a list of numbers as input and returns the sum of all even numbers in the list.\n",
        "\n",
        "def sum_even_numbers(numbers):\n",
        "    sum = 0\n",
        "    for num in numbers:\n",
        "      if num%2==0:\n",
        "        sum+=num\n",
        "    return sum\n",
        "print(sum_even_numbers([1,2,3,4,5,6,7,8,9,10]))"
      ],
      "execution_count": null,
      "outputs": [
        {
          "output_type": "stream",
          "name": "stdout",
          "text": [
            "30\n"
          ]
        }
      ]
    },
    {
      "cell_type": "code",
      "metadata": {
        "id": "666ac260",
        "colab": {
          "base_uri": "https://localhost:8080/"
        },
        "outputId": "0944f2d1-085c-4808-a1aa-36baa8efc7c6"
      },
      "source": [
        "# 2. Create a Python function that accepts a string and returns the reverse of that string.\n",
        "def reverse(string):\n",
        "  return string[::-1]\n",
        "print(reverse(\"deepak\"))"
      ],
      "execution_count": null,
      "outputs": [
        {
          "output_type": "stream",
          "name": "stdout",
          "text": [
            "kapeed\n"
          ]
        }
      ]
    },
    {
      "cell_type": "code",
      "metadata": {
        "id": "f8f280cb",
        "colab": {
          "base_uri": "https://localhost:8080/"
        },
        "outputId": "0a4d298f-0711-48cc-8a16-8c8e75925686"
      },
      "source": [
        "# 3. Implement a Python function that takes a list of integers and returns a new list containing the squares of each number.\n",
        "def square(numbers):\n",
        "  x = map(lambda x:x**2,numbers)\n",
        "  return list(x)\n",
        "print(square([1,2,3,4,5,6,7,8,9,10]))"
      ],
      "execution_count": null,
      "outputs": [
        {
          "output_type": "stream",
          "name": "stdout",
          "text": [
            "[1, 4, 9, 16, 25, 36, 49, 64, 81, 100]\n"
          ]
        }
      ]
    },
    {
      "cell_type": "code",
      "metadata": {
        "id": "c5e959ec",
        "colab": {
          "base_uri": "https://localhost:8080/"
        },
        "outputId": "58bc5c33-9700-46b0-a01d-b5b30a7cb36d"
      },
      "source": [
        "# 4. Write a Python function that checks if a given number is prime or not from 1 to 200.\n",
        "def check_prime(n):\n",
        "  if n<2:\n",
        "    return False\n",
        "  if n ==2:\n",
        "    return True\n",
        "  for i in range(2,n):\n",
        "    if n%i==0:\n",
        "      return False\n",
        "  return True\n",
        "for i in range(1,201):\n",
        "  if check_prime(i):\n",
        "    print(i)"
      ],
      "execution_count": null,
      "outputs": [
        {
          "output_type": "stream",
          "name": "stdout",
          "text": [
            "2\n",
            "3\n",
            "5\n",
            "7\n",
            "11\n",
            "13\n",
            "17\n",
            "19\n",
            "23\n",
            "29\n",
            "31\n",
            "37\n",
            "41\n",
            "43\n",
            "47\n",
            "53\n",
            "59\n",
            "61\n",
            "67\n",
            "71\n",
            "73\n",
            "79\n",
            "83\n",
            "89\n",
            "97\n",
            "101\n",
            "103\n",
            "107\n",
            "109\n",
            "113\n",
            "127\n",
            "131\n",
            "137\n",
            "139\n",
            "149\n",
            "151\n",
            "157\n",
            "163\n",
            "167\n",
            "173\n",
            "179\n",
            "181\n",
            "191\n",
            "193\n",
            "197\n",
            "199\n"
          ]
        }
      ]
    },
    {
      "cell_type": "code",
      "metadata": {
        "id": "643f684c",
        "colab": {
          "base_uri": "https://localhost:8080/"
        },
        "outputId": "9d4a04d7-c181-4646-a30e-2330c46031a3"
      },
      "source": [
        "# 5. Create an iterator class in Python that generates the Fibonacci sequence up to a specified number of terms.\n",
        "number = int(input(\"Enter the number of terms: \"))\n",
        "def fibonacci(number):\n",
        "  first,second = 0,1\n",
        "  for i in range(number):\n",
        "    yield first\n",
        "    first,second = second,first+second\n",
        "fib = fibonacci(number)\n",
        "for _ in range(number):\n",
        "  print(next(fib),end=' ')"
      ],
      "execution_count": null,
      "outputs": [
        {
          "output_type": "stream",
          "name": "stdout",
          "text": [
            "Enter the number of terms: 10\n",
            "0 1 1 2 3 5 8 13 21 34 "
          ]
        }
      ]
    },
    {
      "cell_type": "code",
      "metadata": {
        "id": "fdce0926",
        "colab": {
          "base_uri": "https://localhost:8080/"
        },
        "outputId": "09a1c21e-1d32-4d67-e2c4-67237f9bff0a"
      },
      "source": [
        "# 6. Write a generator function in Python that yields the powers of 2 up to a given exponent.\n",
        "exponent = int(input(\"Hey enter the number: \"))\n",
        "def power_of_two(exponent):\n",
        "  for i in range(exponent+1):\n",
        "    yield i**2\n",
        "power = power_of_two(exponent)\n",
        "for _ in range(exponent+1):\n",
        "  print(next(power),end=' ')"
      ],
      "execution_count": null,
      "outputs": [
        {
          "output_type": "stream",
          "name": "stdout",
          "text": [
            "Hey enter the number: 9\n",
            "0 1 4 9 16 25 36 49 64 81 "
          ]
        }
      ]
    },
    {
      "cell_type": "code",
      "metadata": {
        "id": "85c54a6d",
        "colab": {
          "base_uri": "https://localhost:8080/"
        },
        "outputId": "31b575f7-dc3c-48f1-c5fc-685ac97acdba"
      },
      "source": [
        "# 7. Implement a generator function that reads a file line by line and yields each line as a string.\n",
        "def read_file(filename):\n",
        "  for line in filename:\n",
        "    yield line.strip()\n",
        "file='''Python is a powerful programming language used for data analysis, AI, and automation.\n",
        "It supports both object-oriented and functional programming styles.\n",
        "Generators in Python allow lazy evaluation, saving memory on large data processing.\n",
        "Iterators and generators are the foundation of Python’s iteration protocol.\n",
        "Learning them helps you write more efficient and readable code.\n",
        "'''\n",
        "for line in read_file(file):\n",
        "  print(line,end=' ')\n",
        "##According to quesiton we have to use with funciton that is not taught yet still i  know how to use that so.Here is the correct soln for that.\n",
        "with open(\"sample.txt\",'w') as f:\n",
        "  f.write('''Python is a powerful programming language used for data analysis, AI, and automation.\n",
        "It supports both object-oriented and functional programming styles.\n",
        "Generators in Python allow lazy evaluation, saving memory on large data processing.\n",
        "Iterators and generators are the foundation of Python’s iteration protocol.\n",
        "Learning them helps you write more efficient and readable code.\n",
        "''')\n",
        "print(\"\\n\")\n",
        "def file_read(file):\n",
        "  with open(file,'r') as f:\n",
        "    for line in f:\n",
        "      yield line.strip()\n",
        "for line in file_read('sample.txt'):\n",
        "  print(line)\n",
        "\n",
        "\n",
        "\n",
        "\n"
      ],
      "execution_count": null,
      "outputs": [
        {
          "output_type": "stream",
          "name": "stdout",
          "text": [
            "P y t h o n  i s  a  p o w e r f u l  p r o g r a m m i n g  l a n g u a g e  u s e d  f o r  d a t a  a n a l y s i s ,  A I ,  a n d  a u t o m a t i o n .  I t  s u p p o r t s  b o t h  o b j e c t - o r i e n t e d  a n d  f u n c t i o n a l  p r o g r a m m i n g  s t y l e s .  G e n e r a t o r s  i n  P y t h o n  a l l o w  l a z y  e v a l u a t i o n ,  s a v i n g  m e m o r y  o n  l a r g e  d a t a  p r o c e s s i n g .  I t e r a t o r s  a n d  g e n e r a t o r s  a r e  t h e  f o u n d a t i o n  o f  P y t h o n ’ s  i t e r a t i o n  p r o t o c o l .  L e a r n i n g  t h e m  h e l p s  y o u  w r i t e  m o r e  e f f i c i e n t  a n d  r e a d a b l e  c o d e .  \n",
            "\n",
            "Python is a powerful programming language used for data analysis, AI, and automation.\n",
            "It supports both object-oriented and functional programming styles.\n",
            "Generators in Python allow lazy evaluation, saving memory on large data processing.\n",
            "Iterators and generators are the foundation of Python’s iteration protocol.\n",
            "Learning them helps you write more efficient and readable code.\n"
          ]
        }
      ]
    },
    {
      "cell_type": "code",
      "metadata": {
        "id": "7e5607c2",
        "colab": {
          "base_uri": "https://localhost:8080/"
        },
        "outputId": "2ff0b77e-9fd6-4072-e6c4-5b75c5a4e3b5"
      },
      "source": [
        "# 8. Use a lambda function in Python to sort a list of tuples based on the second element of each tuple.\n",
        "l_t = [('Sachin Tendulkar', 34357), ('Ricky Ponting', 27483), ('Jack Kallis', 25534), ('Virat Kohli', 24936)]\n",
        "l_t.sort(key=lambda x:x[1])\n",
        "print(l_t)"
      ],
      "execution_count": null,
      "outputs": [
        {
          "output_type": "stream",
          "name": "stdout",
          "text": [
            "[('Virat Kohli', 24936), ('Jack Kallis', 25534), ('Ricky Ponting', 27483), ('Sachin Tendulkar', 34357)]\n"
          ]
        }
      ]
    },
    {
      "cell_type": "code",
      "metadata": {
        "id": "9561c251",
        "colab": {
          "base_uri": "https://localhost:8080/"
        },
        "outputId": "9a1a6c0f-84b0-4489-ada6-2375fe9dda5a"
      },
      "source": [
        "# 9. Write a Python program that uses `map()` to convert a list of temperatures from Celsius to Fahrenheit.\n",
        "temp_cel = [39.2, 36.5, 37.3, 38, 37.8]\n",
        "temp_far = list(map((lambda x:round(x*1.8 +32,2)),temp_cel))\n",
        "print(temp_far)"
      ],
      "execution_count": null,
      "outputs": [
        {
          "output_type": "stream",
          "name": "stdout",
          "text": [
            "[102.56, 97.7, 99.14, 100.4, 100.04]\n"
          ]
        }
      ]
    },
    {
      "cell_type": "code",
      "source": [
        "# 10. Create a Python program that uses `filter()` to remove all the vowels from a given string.\n",
        "string = \"Deepak\"\n",
        "filtered_string = \"\".join(filter(lambda x:x not in ['a','e','i','o','u'],string))\n",
        "print(str(filtered_string))"
      ],
      "metadata": {
        "id": "reaLLh1FFd5F",
        "colab": {
          "base_uri": "https://localhost:8080/"
        },
        "outputId": "6a20d7b4-c6d1-4f3f-9b54-c19efa67bb64"
      },
      "execution_count": null,
      "outputs": [
        {
          "output_type": "stream",
          "name": "stdout",
          "text": [
            "Dpk\n"
          ]
        }
      ]
    },
    {
      "cell_type": "code",
      "source": [
        "# 11) Imagine an accounting routine used in a book shop. It works on a list with sublists, which look like this: Write a Python program, which returns a list with 2-tuples. Each tuple consists of the order number and the product of the price per item and the quantity. The product should be increased by 10,- € if the value of the order is smaller than 100,00 €. Write a Python program using lambda and map.\n",
        "orders = [\n",
        "    [34587, \"Learning Python, Mark Lutz\", 4, 40.95],\n",
        "    [98762, \"Programming Python, Mark Lutz\", 5, 56.80],\n",
        "    [77226, \"Head First Python, Paul Barry\", 3, 32.95],\n",
        "    [88112, \"Einführung in Python3, Bernd Klein\", 3, 24.99]\n",
        "]\n",
        "\n",
        "result = list(map(lambda x:(x[0],\n",
        "                            round(x[2]*x[3],2) if x[2]*x[3]>=100 else round(x[2]*x[3]+10,2)),orders))\n",
        "print(result)\n",
        "\n"
      ],
      "metadata": {
        "id": "nKoGiJnTFeog",
        "colab": {
          "base_uri": "https://localhost:8080/"
        },
        "outputId": "e8e56463-5e81-4f27-f6e1-af728f4231e2"
      },
      "execution_count": null,
      "outputs": [
        {
          "output_type": "stream",
          "name": "stdout",
          "text": [
            "[(34587, 163.8), (98762, 284.0), (77226, 108.85), (88112, 84.97)]\n"
          ]
        }
      ]
    }
  ]
}