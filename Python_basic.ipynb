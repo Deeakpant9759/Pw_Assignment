{
 "cells": [
  {
   "cell_type": "markdown",
   "id": "423f2c59",
   "metadata": {},
   "source": [
    "Python Basics Questions"
   ]
  },
  {
   "cell_type": "markdown",
   "id": "25a96487",
   "metadata": {},
   "source": [
    "Quesiton1 What is Python, and why is it popular \n",
    "\n",
    "Answer1: python is a programing language used for automating task . python is popular due to its easy and basic syntax , a vast amount of library to do task which make it easy to use and  its huge community "
   ]
  },
  {
   "cell_type": "markdown",
   "id": "02a7eebf",
   "metadata": {},
   "source": [
    "Question2: What is an interpreter in Python \n",
    "\n",
    "Answer: An Interpeter in python which converts our human language to machine code which machine can understand what to do and it runs code line by line rather then compling whole do at once it excetuite it line by line\n",
    "\n",
    "\n"
   ]
  },
  {
   "cell_type": "markdown",
   "id": "0c018be0",
   "metadata": {},
   "source": [
    "Question3 What are pre-defined keywords in Python \n",
    "\n",
    "Answer:Pre-defined  words are in python those words which are a part of python those tell python what to do they are resverd words we can't use them to create a fucniton , varibale or any indicateors they are part of a syntax menas like protocalls to excute a code"
   ]
  },
  {
   "cell_type": "markdown",
   "id": "702a2775",
   "metadata": {},
   "source": [
    "Quesiton4:Can keywords be used as variable names \n",
    "\n",
    "Answer 4: No key words can't be userd as variable but some words can be used like sum we can give it a varible name although it is not recommended but it can be used.\n"
   ]
  },
  {
   "cell_type": "markdown",
   "id": "251a8521",
   "metadata": {},
   "source": [
    "Question 5: What is mutability in Python \n",
    "\n",
    "Answer 5: mutability is python refers to that can be manupalted menas we can add , remove or update after they are created "
   ]
  },
  {
   "cell_type": "markdown",
   "id": "5f343675",
   "metadata": {},
   "source": [
    "Question 6:  Why are lists mutable, but tuples are immutable?. \n",
    "\n",
    "Answer:List are created dynamicly in storage menas to say when they are create they are alloted extra space while in working they can be updated meanwhile tuples are created into fixed size and hashable menas like the every the value and key are fixed once created they points to the memory where they are saved we can't update them."
   ]
  },
  {
   "cell_type": "markdown",
   "id": "88418647",
   "metadata": {},
   "source": [
    "Question 7: What is the difference between “==” and “is” operators in Python \n",
    "\n",
    "Answer: \"==\" is used to compare two items and return a bool value its used to check two object if they look same or have same data type then  return True else False  and \"is\" check do they point to same loction just like x = 5 and y = 5 x is in xxyyy loction and y is in yyyxx if we do x==y then it will return True but \"is\" will return false because they don't have same location but if x=y then they share same loction then both == and is will return True "
   ]
  },
  {
   "cell_type": "markdown",
   "id": "d9cdda3d",
   "metadata": {},
   "source": [
    "Quesiton 8: What are logical operators in Python \n",
    "\n",
    "Answer: logical operators  used to perform logical opreation in python and return bool expression\n",
    "there are 3 opreators in python \n",
    "\n",
    "1: and :--> compares two condtions if they both are correct then it return True else False\n",
    "example: x =0 and x <1 (if x will be 0  then it will return True)\n",
    "\n",
    "2: or :--> exicute when either one condition become True:\n",
    "example: x = 0 and x <1(if x will be -1 it will return True)\n",
    "\n",
    "3: not :--> it filps the result if answer is True it will return False and vise versa\n",
    "example: not(5>2) (will return True)"
   ]
  }
 ],
 "metadata": {
  "language_info": {
   "name": "python"
  }
 },
 "nbformat": 4,
 "nbformat_minor": 5
}
