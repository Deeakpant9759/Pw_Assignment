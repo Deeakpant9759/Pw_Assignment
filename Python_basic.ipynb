{
 "cells": [
  {
   "cell_type": "markdown",
   "id": "423f2c59",
   "metadata": {},
   "source": [
    "Python Basics Questions"
   ]
  },
  {
   "cell_type": "markdown",
   "id": "25a96487",
   "metadata": {},
   "source": [
    "Quesiton1 What is Python, and why is it popular \n",
    "\n",
    "Answer1: python is a programing language used for automating task . python is popular due to its easy and basic syntax , a vast amount of library to do task which make it easy to use and  its huge community "
   ]
  },
  {
   "cell_type": "markdown",
   "id": "02a7eebf",
   "metadata": {},
   "source": [
    "Question2: What is an interpreter in Python \n",
    "\n",
    "Answer: An Interpeter in python which converts our human language to machine code which machine can understand what to do and it runs code line by line rather then compling whole do at once it excetuite it line by line\n",
    "\n",
    "\n"
   ]
  },
  {
   "cell_type": "markdown",
   "id": "0c018be0",
   "metadata": {},
   "source": [
    "Question3 What are pre-defined keywords in Python \n",
    "\n",
    "Answer:Pre-defined  words are in python those words which are a part of python those tell python what to do they are resverd words we can't use them to create a fucniton , varibale or any indicateors they are part of a syntax menas like protocalls to excute a code"
   ]
  },
  {
   "cell_type": "markdown",
   "id": "702a2775",
   "metadata": {},
   "source": [
    "Quesiton4:Can keywords be used as variable names \n",
    "\n",
    "Answer 4: No key words can't be used as variable. if we do so it will give a error\n"
   ]
  },
  {
   "cell_type": "markdown",
   "id": "251a8521",
   "metadata": {},
   "source": [
    "Question 5: What is mutability in Python \n",
    "\n",
    "Answer 5: mutability is python refers to that can be manupalted menas we can add , remove or update after they are created "
   ]
  },
  {
   "cell_type": "markdown",
   "id": "5f343675",
   "metadata": {},
   "source": [
    "Question 6:  Why are lists mutable, but tuples are immutable?. \n",
    "\n",
    "Answer:List are created dynamicly in storage menas to say when they are create they are alloted extra space while in working they can be updated meanwhile tuples are created into fixed size and hashable menas like the every the value and key are fixed once created they points to the memory where they are saved we can't update them."
   ]
  },
  {
   "cell_type": "markdown",
   "id": "88418647",
   "metadata": {},
   "source": [
    "Question 7: What is the difference between “==” and “is” operators in Python \n",
    "\n",
    "Answer: \"==\" is used to compare two items and return a bool value its used to check two object if they look same or have same data type then  return True else False  and \"is\" check do they point to same loction just like x = 5 and y = 5 x is in xxyyy loction and y is in yyyxx if we do x==y then it will return True but \"is\" will return false because they don't have same location but if x=y then they share same loction then both == and is will return True "
   ]
  },
  {
   "cell_type": "markdown",
   "id": "d9cdda3d",
   "metadata": {},
   "source": [
    "Quesiton 8: What are logical operators in Python \n",
    "\n",
    "Answer: logical operators  used to perform logical opreation in python and return bool expression\n",
    "there are 3 opreators in python \n",
    "\n",
    "1: and :--> compares two condtions if they both are correct then it return True else False\n",
    "example: x =0 and x <1 (if x will be 0  then it will return True)\n",
    "\n",
    "2: or :--> exicute when either one condition become True:\n",
    "example: x = 0 and x <1(if x will be -1 it will return True)\n",
    "\n",
    "3: not :--> it filps the result if answer is True it will return False and vise versa\n",
    "example: not(5>2) (will return True)"
   ]
  },
  {
   "cell_type": "markdown",
   "id": "4e5218f9",
   "metadata": {},
   "source": [
    "Quesiton 9:What is type casting in Python\n",
    "\n",
    "Answer: Type casting is python refer to converting one data type to another\n",
    "example: x = '5' x in string data type we want to convert it into interger data type so \n",
    "x = int(x) not the data type of x is int form str"
   ]
  },
  {
   "cell_type": "markdown",
   "id": "7cc07f98",
   "metadata": {},
   "source": [
    "Question 10:  What is the difference between implicit and explicit type casting ?\n",
    "\n",
    "Answer:Implicit type casitng is done by python itself when a opreation pyton do it by his own  while explicit we programer do the type casting \n",
    "example: while input form user the input user give will auto beocme str and in programing if i do x = 5 it will become int we don't instruct python to do but it done auto meanwhile in explicit we instruct python to make it of that type for example while importing x = int(input) so the input will come as int not as str"
   ]
  },
  {
   "cell_type": "markdown",
   "id": "81f0dc3a",
   "metadata": {},
   "source": [
    "Quesiton 11: What is the purpose of conditional statements in Python\n",
    " \n",
    "Answer: conditional statements are used for making decisions of the program they work as flow of excution of code beased on condition. they are used to give logic to program"
   ]
  },
  {
   "cell_type": "markdown",
   "id": "bb6c6d6a",
   "metadata": {},
   "source": [
    "Quesition 12:  How does the elif statement work ?\n",
    "\n",
    "Answer: elif used to apply multiple conditon in python . It executes after the top condition got blocked. "
   ]
  },
  {
   "cell_type": "markdown",
   "id": "cd984241",
   "metadata": {},
   "source": [
    "Quesiton 13:  What is the difference between for and while loops \n",
    "\n",
    "Answer: Loops are used to execute a block of code multiple time . For loop can loop over only between a range or over or sequence meanwhile while loop until a condition met if codnditon met while stop number of iteration in for is fixed but in while there unknown number of iterations"
   ]
  },
  {
   "cell_type": "markdown",
   "id": "e50d7779",
   "metadata": {},
   "source": [
    "Quesiton 14: Describe a scenario where a while loop is more suitable than a for loop.?\n",
    "\n",
    "Answer: like we have to guess a number of user form 1 to 10 so we want to exicute a program until number got matched with the users so we use there while True loop "
   ]
  },
  {
   "cell_type": "markdown",
   "id": "509866c5",
   "metadata": {},
   "source": [
    "Practicle Question"
   ]
  },
  {
   "cell_type": "markdown",
   "id": "86f3727e",
   "metadata": {},
   "source": [
    "Question1: Write a Python program to print \"Hello, World!y"
   ]
  },
  {
   "cell_type": "code",
   "execution_count": null,
   "id": "4d8ae6c9",
   "metadata": {},
   "outputs": [],
   "source": [
    "print(\"Hello World\")"
   ]
  },
  {
   "cell_type": "markdown",
   "id": "ea68152f",
   "metadata": {},
   "source": [
    "Quesiton2:Write a Python program that displays your name and age"
   ]
  },
  {
   "cell_type": "code",
   "execution_count": null,
   "id": "2f96da63",
   "metadata": {},
   "outputs": [],
   "source": [
    "print(\"My Name is Deepak I am 20 year old\")"
   ]
  },
  {
   "cell_type": "markdown",
   "id": "949ca925",
   "metadata": {},
   "source": [
    "Question 3:Write code to print all the pre-defined keywords in Python using the keyword library8"
   ]
  },
  {
   "cell_type": "code",
   "execution_count": null,
   "id": "9d5b14f6",
   "metadata": {},
   "outputs": [],
   "source": [
    "import keyword\n",
    "key_words = keyword.kwlist\n",
    "for k in enumerate(key_words):\n",
    "    print(k)"
   ]
  },
  {
   "cell_type": "markdown",
   "id": "974e7205",
   "metadata": {},
   "source": [
    "Quesiton 4: Write a program that checks if a given word is a Python keyword."
   ]
  },
  {
   "cell_type": "code",
   "execution_count": null,
   "id": "ee4f23fc",
   "metadata": {},
   "outputs": [
    {
     "name": "stdout",
     "output_type": "stream",
     "text": [
      "False is a part of key words\n"
     ]
    }
   ],
   "source": [
    "import keyword\n",
    "key_words = keyword.kwlist\n",
    "x = 'False'\n",
    "if x in key_words:\n",
    "    print(f\"{x} is a part of key words\")\n",
    "else:\n",
    "    print(f\"{x} is not part of key word\")"
   ]
  },
  {
   "cell_type": "markdown",
   "id": "198f628c",
   "metadata": {},
   "source": [
    "Quesiton 5: Create a list and tuple in Python, and demonstrate how attempting to change an element works differently\n",
    "for each."
   ]
  },
  {
   "cell_type": "code",
   "execution_count": 23,
   "id": "e75f4f72",
   "metadata": {},
   "outputs": [
    {
     "name": "stdout",
     "output_type": "stream",
     "text": [
      "My orignal list [1, 2, 3, 4, 5, 6, 7, 8, 9, 10]\n",
      "Modified list  [1, 20, 3, 4, 5, 6, 7, 8, 9, 10]\n",
      "Orignal tuple  (1, 2, 3, 4, 5, 6, 7, 8, 9, 10)\n",
      "Error modifiying to the typle\n",
      "modified tuple (1, 2, 3, 4, 5, 6, 7, 8, 9, 10)\n"
     ]
    }
   ],
   "source": [
    "x = [x for x in range(1,11)]\n",
    "y = tuple(y for y in range(1,11))\n",
    "print(\"My orignal list\", x)\n",
    "#list modificaiton\n",
    "x[1] = 20\n",
    "print(\"Modified list \" ,x ) #see first x[1] = 2 now it is 20\n",
    "#tuple modificaiton\n",
    "print(\"Orignal tuple \",y)\n",
    "try:\n",
    "    y[1] = 25\n",
    "except TypeError:\n",
    "    print(\"Error modifiying to the typle\")\n",
    "print(\"modified tuple\",y)#see there would be no change and even it rasied an error\n"
   ]
  },
  {
   "cell_type": "markdown",
   "id": "82937405",
   "metadata": {},
   "source": [
    "Question 6: Write a function to demonstrate the behavior of mutable and immutable arguments."
   ]
  },
  {
   "cell_type": "code",
   "execution_count": 25,
   "id": "645ded9c",
   "metadata": {},
   "outputs": [
    {
     "name": "stdout",
     "output_type": "stream",
     "text": [
      "Before the fuction cal data [1, 2, 3]\n",
      "before the fucntion call num 0\n",
      "Inside the funcition--- data  [1, 55, 3]\n",
      "inside the fucntion -- num 50\n",
      "after the fucntion call -- data [1, 55, 3]\n",
      "after the call of funtion -- num 0\n"
     ]
    }
   ],
   "source": [
    "def function(mutable,immutable):\n",
    "    mutable[1] = 55\n",
    "    immutable+=50\n",
    "    print(\"Inside the funcition--- data \",mutable)\n",
    "    print(\"inside the fucntion -- num\",immutable)\n",
    "\n",
    "\n",
    "data = [1,2,3]\n",
    "num = 0 \n",
    "\n",
    "print(\"Before the fuction cal data\",data)\n",
    "print(\"before the fucntion call num\",num)\n",
    "\n",
    "function(data,num)\n",
    "\n",
    "print(\"after the fucntion call -- data\",data)\n",
    "print(\"after the call of funtion -- num\",num)\n",
    "\n"
   ]
  },
  {
   "cell_type": "markdown",
   "id": "65c9fa6d",
   "metadata": {},
   "source": [
    "Quesiton 7:Write a program that performs basic arithmetic operations on two user-input numbers.\n",
    "\n"
   ]
  },
  {
   "cell_type": "code",
   "execution_count": 31,
   "id": "dcdab2bc",
   "metadata": {},
   "outputs": [
    {
     "name": "stdout",
     "output_type": "stream",
     "text": [
      "Add: 15.0 Sub: -5.0 Multiply: 50.0 Div: 0.5 reminder 5.0\n"
     ]
    }
   ],
   "source": [
    "x = float(input(\"Enter the number\"))\n",
    "y = float(input(\"enter the number\"))\n",
    "\n",
    "add = lambda x,y:x+y\n",
    "sub = lambda x,y:x-y\n",
    "multiply = lambda x,y:x*y\n",
    "div = lambda x,y: x / y if y != 0 else \"can't divide by zero\"\n",
    "reminder = lambda x,y: x % y if y != 0 else \"can't divide by zero\"\n",
    "print(\"Add:\", add(x,y), \"Sub:\", sub(x,y), \"Multiply:\", multiply(x,y), \"Div:\", div(x,y),\"reminder\",reminder(x,y))"
   ]
  },
  {
   "cell_type": "markdown",
   "id": "5d79dd77",
   "metadata": {},
   "source": [
    " Quesiton 8. Write a program to demonstrate the use of logical operators."
   ]
  },
  {
   "cell_type": "code",
   "execution_count": null,
   "id": "65d3cbbc",
   "metadata": {},
   "outputs": [
    {
     "name": "stdout",
     "output_type": "stream",
     "text": [
      "don't know what to write  as for question just use them so i used them! \n"
     ]
    }
   ],
   "source": [
    "x = 10\n",
    "y = 10\n",
    "\n",
    "if x > y or x < y:\n",
    "    print(\"hi\")\n",
    "elif x==y and x <y:\n",
    "    print(\"hello\")\n",
    "elif not(x == y):\n",
    "    print(\"hello! are u there?\")\n",
    "else:\n",
    "    print(\"don't know what to write , as for question just use them so i used them! \")"
   ]
  },
  {
   "cell_type": "markdown",
   "id": "469c0204",
   "metadata": {},
   "source": [
    "quesiton 9: Write a Python program to convert user input from string to integer, float, and boolean types."
   ]
  },
  {
   "cell_type": "code",
   "execution_count": null,
   "id": "a823fb56",
   "metadata": {},
   "outputs": [
    {
     "name": "stdout",
     "output_type": "stream",
     "text": [
      "successfully converted 0 to integer\n",
      "successfully converted 0.0 to float\n",
      "successfully converted the False to bool\n",
      "False\n"
     ]
    }
   ],
   "source": [
    "y = input(\"Hey Enter any thing to convert!\").strip()\n",
    "try:\n",
    "    x = int(x)\n",
    "    print(f\"successfully converted {x} to integer\")\n",
    "except ValueError:\n",
    "    print(f\"can't convert {x}to integer \")\n",
    "try:\n",
    "    x = float(x)\n",
    "    print(f\"successfully converted {x} to float\")\n",
    "except ValueError:\n",
    "    print(f\"can't convert the {x} to float \")\n",
    "try:\n",
    "    x = bool(x)\n",
    "    print(f\"successfully converted the {x} to bool\")\n",
    "except ValueError:\n",
    "    print(f\"can't convert {x} to bool\")\n",
    "\n",
    "\n"
   ]
  },
  {
   "cell_type": "markdown",
   "id": "45407c7e",
   "metadata": {},
   "source": [
    "quesiton 10. Write code to demonstrate type casting with list elements."
   ]
  },
  {
   "cell_type": "code",
   "execution_count": 47,
   "id": "cd62d759",
   "metadata": {},
   "outputs": [
    {
     "name": "stdout",
     "output_type": "stream",
     "text": [
      "orignal data [1, 2, 3, 4, 5, 6, 7, 8, 9] and type of data is [<class 'int'>, <class 'int'>, <class 'int'>, <class 'int'>, <class 'int'>, <class 'int'>, <class 'int'>, <class 'int'>, <class 'int'>] \n",
      "string data ['1', '2', '3', '4', '5', '6', '7', '8', '9'] and type of data is [<class 'str'>, <class 'str'>, <class 'str'>, <class 'str'>, <class 'str'>, <class 'str'>, <class 'str'>, <class 'str'>, <class 'str'>] \n",
      "float data [1.0, 2.0, 3.0, 4.0, 5.0, 6.0, 7.0, 8.0, 9.0] and type of data is [<class 'float'>, <class 'float'>, <class 'float'>, <class 'float'>, <class 'float'>, <class 'float'>, <class 'float'>, <class 'float'>, <class 'float'>] \n"
     ]
    }
   ],
   "source": [
    "data = [x for x in range(1,10)]\n",
    "# int to str\n",
    "print(f'orignal data {data} and type of data is {[type(x) for x in data]} ' )    \n",
    "str_data = [str(x) for x in data]\n",
    "print(f'string data {str_data} and type of data is {[type(x) for x in str_data] } ' )  \n",
    "float_data = [float(x) for x in data]\n",
    "print(f'float data {float_data} and type of data is {[type(x) for x in float_data] } ' )  \n"
   ]
  },
  {
   "cell_type": "markdown",
   "id": "78cecd1a",
   "metadata": {},
   "source": [
    "quesiton11. Write a program that checks if a number is positive, negative, or zero.\n",
    "\n"
   ]
  },
  {
   "cell_type": "code",
   "execution_count": 51,
   "id": "d376c7c1",
   "metadata": {},
   "outputs": [
    {
     "name": "stdout",
     "output_type": "stream",
     "text": [
      "negative\n"
     ]
    }
   ],
   "source": [
    "x = -1\n",
    "if x >0:\n",
    "    print('Positive')\n",
    "elif x <0:\n",
    "    print(\"negative\")\n",
    "else:\n",
    "    print(\"zero\")"
   ]
  },
  {
   "cell_type": "markdown",
   "id": "65ff0b38",
   "metadata": {},
   "source": [
    "question12. Write a for loop to print numbers from 1 to 10."
   ]
  },
  {
   "cell_type": "code",
   "execution_count": 52,
   "id": "41cc047d",
   "metadata": {},
   "outputs": [
    {
     "name": "stdout",
     "output_type": "stream",
     "text": [
      "1\n",
      "2\n",
      "3\n",
      "4\n",
      "5\n",
      "6\n",
      "7\n",
      "8\n",
      "9\n",
      "10\n"
     ]
    }
   ],
   "source": [
    "for i in range(1,11):\n",
    "    print(i)\n"
   ]
  },
  {
   "cell_type": "markdown",
   "id": "121071bc",
   "metadata": {},
   "source": [
    "quesiton13 Write a Python program to find the sum of all even numbers between 1 and 50."
   ]
  },
  {
   "cell_type": "code",
   "execution_count": 56,
   "id": "df70ca39",
   "metadata": {},
   "outputs": [
    {
     "name": "stdout",
     "output_type": "stream",
     "text": [
      "650\n",
      "650\n"
     ]
    }
   ],
   "source": [
    "x =0\n",
    "for i in range(0,51,2):\n",
    "    x+=i\n",
    "print(x)\n",
    "\n",
    "x = 25*(25+1)\n",
    "print(x)"
   ]
  },
  {
   "cell_type": "markdown",
   "id": "381146ea",
   "metadata": {},
   "source": [
    "question 14 . Write a program to reverse a string using a while loop."
   ]
  },
  {
   "cell_type": "code",
   "execution_count": 59,
   "id": "f18651a1",
   "metadata": {},
   "outputs": [
    {
     "name": "stdout",
     "output_type": "stream",
     "text": [
      "kapeed\n"
     ]
    }
   ],
   "source": [
    "x = 'deepak'\n",
    "i = len(x)-1\n",
    "p = ''\n",
    "while i >=0:\n",
    "    p = p+ x[i]\n",
    "    i-=1\n",
    "print(p)\n",
    "\n"
   ]
  },
  {
   "cell_type": "markdown",
   "id": "590d6032",
   "metadata": {},
   "source": [
    "quesiton15. Write a Python program to calculate the factorial of a number provided by the user using a while loop."
   ]
  },
  {
   "cell_type": "code",
   "execution_count": 67,
   "id": "9e6f52c3",
   "metadata": {},
   "outputs": [
    {
     "name": "stdout",
     "output_type": "stream",
     "text": [
      "1\n"
     ]
    }
   ],
   "source": [
    "x = int(input(\"Hey enter the number\"))\n",
    "y = 1\n",
    "if x !=0:\n",
    "    while x >0:\n",
    "        y = x*y\n",
    "        x-=1\n",
    "print(y)\n"
   ]
  }
 ],
 "metadata": {
  "kernelspec": {
   "display_name": "Python 3",
   "language": "python",
   "name": "python3"
  },
  "language_info": {
   "codemirror_mode": {
    "name": "ipython",
    "version": 3
   },
   "file_extension": ".py",
   "mimetype": "text/x-python",
   "name": "python",
   "nbconvert_exporter": "python",
   "pygments_lexer": "ipython3",
   "version": "3.12.3"
  }
 },
 "nbformat": 4,
 "nbformat_minor": 5
}
