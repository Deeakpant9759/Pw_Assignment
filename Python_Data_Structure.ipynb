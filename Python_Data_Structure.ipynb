{
  "nbformat": 4,
  "nbformat_minor": 0,
  "metadata": {
    "colab": {
      "provenance": [],
      "authorship_tag": "ABX9TyMF9hk53S0aEqggnKxp+Utp",
      "include_colab_link": true
    },
    "kernelspec": {
      "name": "python3",
      "display_name": "Python 3"
    },
    "language_info": {
      "name": "python"
    }
  },
  "cells": [
    {
      "cell_type": "markdown",
      "metadata": {
        "id": "view-in-github",
        "colab_type": "text"
      },
      "source": [
        "<a href=\"https://colab.research.google.com/github/Deeakpant9759/Pw_Assignment/blob/master/Python_Data_Structure.ipynb\" target=\"_parent\"><img src=\"https://colab.research.google.com/assets/colab-badge.svg\" alt=\"Open In Colab\"/></a>"
      ]
    },
    {
      "cell_type": "markdown",
      "metadata": {
        "id": "87edd6c6"
      },
      "source": [
        "**Question 1**: What are data structures, and why are they important?\n",
        "\n",
        "**Answer 1**:"
      ]
    },
    {
      "cell_type": "markdown",
      "metadata": {
        "id": "a878937b"
      },
      "source": [
        "**Question 2**: Explain the difference between mutable and immutable data types with examples\n",
        "\n",
        "**Answer 2**:"
      ]
    },
    {
      "cell_type": "markdown",
      "metadata": {
        "id": "c3ab09dc"
      },
      "source": [
        "**Question 3**: What are the main differences between lists and tuples in Python?\n",
        "\n",
        "**Answer 3**:"
      ]
    },
    {
      "cell_type": "markdown",
      "metadata": {
        "id": "504fb8f0"
      },
      "source": [
        "**Question 4**: Describe how dictionaries store data\n",
        "\n",
        "**Answer 4**:"
      ]
    },
    {
      "cell_type": "markdown",
      "metadata": {
        "id": "d5597f9a"
      },
      "source": [
        "**Question 5**: Why might you use a set instead of a list in Python?\n",
        "\n",
        "**Answer 5**:"
      ]
    },
    {
      "cell_type": "markdown",
      "metadata": {
        "id": "9f28e99c"
      },
      "source": [
        "**Question 6**: What is a string in Python, and how is it different from a list?\n",
        "\n",
        "**Answer 6**:"
      ]
    },
    {
      "cell_type": "markdown",
      "metadata": {
        "id": "2bfba97d"
      },
      "source": [
        "**Question 7**: How do tuples ensure data integrity in Python?\n",
        "\n",
        "**Answer 7**:"
      ]
    },
    {
      "cell_type": "markdown",
      "metadata": {
        "id": "413ab49e"
      },
      "source": [
        "**Question 8**: What is a hash table, and how does it relate to dictionaries in Python?\n",
        "\n",
        "**Answer 8**:"
      ]
    },
    {
      "cell_type": "markdown",
      "metadata": {
        "id": "a2d5ed5a"
      },
      "source": [
        "**Question 9**: Can lists contain different data types in Python?\n",
        "\n",
        "**Answer 9**:"
      ]
    },
    {
      "cell_type": "markdown",
      "metadata": {
        "id": "d9dd9e25"
      },
      "source": [
        "**Question 10**: Explain why strings are immutable in Python\n",
        "\n",
        "**Answer 10**:"
      ]
    },
    {
      "cell_type": "markdown",
      "metadata": {
        "id": "e6f9dc7d"
      },
      "source": [
        "**Question 11**: What advantages do dictionaries offer over lists for certain tasks?\n",
        "\n",
        "**Answer 11**:"
      ]
    },
    {
      "cell_type": "markdown",
      "metadata": {
        "id": "cd2c76c1"
      },
      "source": [
        "**Question 12**: Describe a scenario where using a tuple would be preferable over a list\n",
        "\n",
        "**Answer 12**:"
      ]
    },
    {
      "cell_type": "markdown",
      "metadata": {
        "id": "aebd475e"
      },
      "source": [
        "**Question 13**: How do sets handle duplicate values in Python?\n",
        "\n",
        "**Answer 13**:"
      ]
    },
    {
      "cell_type": "markdown",
      "metadata": {
        "id": "19a7ce92"
      },
      "source": [
        "**Question 14**: How does the “in” keyword work differently for lists and dictionaries?\n",
        "\n",
        "**Answer 14**:"
      ]
    },
    {
      "cell_type": "markdown",
      "metadata": {
        "id": "b6fefebb"
      },
      "source": [
        "**Question 15**: Can you modify the elements of a tuple? Explain why or why not\n",
        "\n",
        "**Answer 15**:"
      ]
    },
    {
      "cell_type": "markdown",
      "metadata": {
        "id": "0640ff3e"
      },
      "source": [
        "**Question 16**: What is a nested dictionary, and give an example of its use case?\n",
        "\n",
        "**Answer 16**:"
      ]
    },
    {
      "cell_type": "markdown",
      "metadata": {
        "id": "47b10054"
      },
      "source": [
        "**Question 17**: Describe the time complexity of accessing elements in a dictionary\n",
        "\n",
        "**Answer 17**:"
      ]
    },
    {
      "cell_type": "markdown",
      "metadata": {
        "id": "4cddee32"
      },
      "source": [
        "**Question 18**: In what situations are lists preferred over dictionaries?\n",
        "\n",
        "**Answer 18**:"
      ]
    },
    {
      "cell_type": "markdown",
      "metadata": {
        "id": "806bd001"
      },
      "source": [
        "**Question 19**: Why are dictionaries considered unordered, and how does that affect data retrieval?\n",
        "\n",
        "**Answer 19**:"
      ]
    },
    {
      "cell_type": "markdown",
      "metadata": {
        "id": "b9a06ede"
      },
      "source": [
        "**Question 20**: Explain the difference between a list and a dictionary in terms of data retrieval.\n",
        "\n",
        "**Answer 20**:"
      ]
    },
    {
      "cell_type": "markdown",
      "metadata": {
        "id": "90702720"
      },
      "source": [
        "**Question 11**: Write a code to create a tuple with the elements 100, 200, 300 and print it."
      ]
    },
    {
      "cell_type": "code",
      "metadata": {
        "colab": {
          "base_uri": "https://localhost:8080/"
        },
        "id": "9e161feb",
        "outputId": "14299216-c5c1-434d-ad9a-f355235c62f9"
      },
      "source": [
        "print(\"hello world\")"
      ],
      "execution_count": 5,
      "outputs": [
        {
          "output_type": "stream",
          "name": "stdout",
          "text": [
            "hello world\n"
          ]
        }
      ]
    },
    {
      "cell_type": "markdown",
      "metadata": {
        "id": "21726e7c"
      },
      "source": [
        "**Question 12**: Write a code to access the second-to-last element of the tuple ('red', 'green', 'blue', 'yellow')."
      ]
    },
    {
      "cell_type": "code",
      "metadata": {
        "colab": {
          "base_uri": "https://localhost:8080/"
        },
        "id": "c931ff0c",
        "outputId": "8e19ac85-1e71-47a2-9432-5b0e03507a4d"
      },
      "source": [
        "print(\"hello world\")"
      ],
      "execution_count": 6,
      "outputs": [
        {
          "output_type": "stream",
          "name": "stdout",
          "text": [
            "hello world\n"
          ]
        }
      ]
    },
    {
      "cell_type": "markdown",
      "metadata": {
        "id": "d06537b0"
      },
      "source": [
        "**Question 13**: Write a code to find the minimum number in the tuple (10, 20, 5, 15)."
      ]
    },
    {
      "cell_type": "code",
      "metadata": {
        "colab": {
          "base_uri": "https://localhost:8080/"
        },
        "id": "4c7e5c2f",
        "outputId": "cc25131a-2ef5-49dd-a49c-41935562d05e"
      },
      "source": [
        "print(\"hello world\")"
      ],
      "execution_count": 7,
      "outputs": [
        {
          "output_type": "stream",
          "name": "stdout",
          "text": [
            "hello world\n"
          ]
        }
      ]
    },
    {
      "cell_type": "markdown",
      "metadata": {
        "id": "1b13dfd9"
      },
      "source": [
        "**Question 14**: Write a code to find the index of the element \"cat\" in the tuple ('dog', 'cat', 'rabbit')."
      ]
    },
    {
      "cell_type": "code",
      "metadata": {
        "colab": {
          "base_uri": "https://localhost:8080/"
        },
        "id": "9634462b",
        "outputId": "6d019cc8-4542-4c05-ee41-3689a487103c"
      },
      "source": [
        "print(\"hello world\")"
      ],
      "execution_count": 8,
      "outputs": [
        {
          "output_type": "stream",
          "name": "stdout",
          "text": [
            "hello world\n"
          ]
        }
      ]
    },
    {
      "cell_type": "markdown",
      "metadata": {
        "id": "f49910a4"
      },
      "source": [
        "**Question 15**: Write a code to create a tuple containing three different fruits and check if \"kiwi\" is in it."
      ]
    },
    {
      "cell_type": "code",
      "metadata": {
        "colab": {
          "base_uri": "https://localhost:8080/"
        },
        "id": "c942595f",
        "outputId": "4289f2a5-5704-4db7-93d0-0356d66d4618"
      },
      "source": [
        "print(\"hello world\")"
      ],
      "execution_count": 9,
      "outputs": [
        {
          "output_type": "stream",
          "name": "stdout",
          "text": [
            "hello world\n"
          ]
        }
      ]
    },
    {
      "cell_type": "markdown",
      "metadata": {
        "id": "f158c281"
      },
      "source": [
        "**Question 16**: Write a code to create a set with the elements 'a', 'b', 'c' and print it."
      ]
    },
    {
      "cell_type": "code",
      "metadata": {
        "id": "482894c3"
      },
      "source": [],
      "execution_count": 9,
      "outputs": []
    },
    {
      "cell_type": "markdown",
      "metadata": {
        "id": "b2d6609e"
      },
      "source": [
        "**Question 17**: Write a code to clear all elements from the set {1, 2, 3, 4, 5}."
      ]
    },
    {
      "cell_type": "code",
      "metadata": {
        "colab": {
          "base_uri": "https://localhost:8080/"
        },
        "id": "9dc918a0",
        "outputId": "ef9acdea-8846-4db9-e3b4-55b651390da1"
      },
      "source": [
        "print(\"hello world\")"
      ],
      "execution_count": 10,
      "outputs": [
        {
          "output_type": "stream",
          "name": "stdout",
          "text": [
            "hello world\n"
          ]
        }
      ]
    },
    {
      "cell_type": "markdown",
      "metadata": {
        "id": "b053789c"
      },
      "source": [
        "**Question 18**: Write a code to remove the element 4 from the set {1, 2, 3, 4}."
      ]
    },
    {
      "cell_type": "code",
      "metadata": {
        "colab": {
          "base_uri": "https://localhost:8080/"
        },
        "id": "12705115",
        "outputId": "9a1effc6-491f-417f-f4f5-1587eb52f419"
      },
      "source": [
        "print(\"hello world\")"
      ],
      "execution_count": 11,
      "outputs": [
        {
          "output_type": "stream",
          "name": "stdout",
          "text": [
            "hello world\n"
          ]
        }
      ]
    },
    {
      "cell_type": "markdown",
      "metadata": {
        "id": "d8811e83"
      },
      "source": [
        "**Question 19**: Write a code to find the union of two sets {1, 2, 3} and {3, 4, 5}."
      ]
    },
    {
      "cell_type": "code",
      "metadata": {
        "colab": {
          "base_uri": "https://localhost:8080/"
        },
        "id": "c9e0f625",
        "outputId": "7e4d4fc8-f0cf-440d-8eb6-3d2edc223fb3"
      },
      "source": [
        "print(\"hello world\")"
      ],
      "execution_count": 12,
      "outputs": [
        {
          "output_type": "stream",
          "name": "stdout",
          "text": [
            "hello world\n"
          ]
        }
      ]
    },
    {
      "cell_type": "markdown",
      "metadata": {
        "id": "05a24331"
      },
      "source": [
        "**Question 20**: Write a code to find the intersection of two sets {1, 2, 3} and {2, 3, 4}."
      ]
    },
    {
      "cell_type": "code",
      "metadata": {
        "colab": {
          "base_uri": "https://localhost:8080/"
        },
        "id": "c650aa34",
        "outputId": "8e243220-f67d-4b51-ad15-b35d4357910f"
      },
      "source": [
        "print(\"hello world\")"
      ],
      "execution_count": 13,
      "outputs": [
        {
          "output_type": "stream",
          "name": "stdout",
          "text": [
            "hello world\n"
          ]
        }
      ]
    },
    {
      "cell_type": "markdown",
      "metadata": {
        "id": "7945366c"
      },
      "source": [
        "**Question 21**: Write a code to create a dictionary with the keys \"name\", \"age\", and \"city\", and print it."
      ]
    },
    {
      "cell_type": "code",
      "metadata": {
        "colab": {
          "base_uri": "https://localhost:8080/"
        },
        "id": "231c15db",
        "outputId": "ec15f157-6c5e-46bb-d0f2-3c29fa557b49"
      },
      "source": [
        "print(\"hello world\")"
      ],
      "execution_count": 14,
      "outputs": [
        {
          "output_type": "stream",
          "name": "stdout",
          "text": [
            "hello world\n"
          ]
        }
      ]
    },
    {
      "cell_type": "markdown",
      "metadata": {
        "id": "15f3c90a"
      },
      "source": [
        "**Question 22**: Write a code to add a new key-value pair \"country\": \"USA\" to the dictionary {'name': 'John', 'age': 25}."
      ]
    },
    {
      "cell_type": "code",
      "metadata": {
        "colab": {
          "base_uri": "https://localhost:8080/"
        },
        "id": "9a9af8df",
        "outputId": "b36d4679-0784-438c-a3cc-df0ccffac503"
      },
      "source": [
        "print(\"hello world\")"
      ],
      "execution_count": 15,
      "outputs": [
        {
          "output_type": "stream",
          "name": "stdout",
          "text": [
            "hello world\n"
          ]
        }
      ]
    },
    {
      "cell_type": "markdown",
      "metadata": {
        "id": "ac546a54"
      },
      "source": [
        "**Question 23**: Write a code to access the value associated with the key \"name\" in the dictionary {'name': 'Alice', 'age': 30}."
      ]
    },
    {
      "cell_type": "code",
      "metadata": {
        "colab": {
          "base_uri": "https://localhost:8080/"
        },
        "id": "acaf8f80",
        "outputId": "cb77bd2c-b109-4d34-a6b5-32b849e71da1"
      },
      "source": [
        "print(\"hello world\")"
      ],
      "execution_count": 16,
      "outputs": [
        {
          "output_type": "stream",
          "name": "stdout",
          "text": [
            "hello world\n"
          ]
        }
      ]
    },
    {
      "cell_type": "markdown",
      "metadata": {
        "id": "01c2a6c1"
      },
      "source": [
        "**Question 24**: Write a code to remove the key \"age\" from the dictionary {'name': 'Bob', 'age': 22, 'city': 'New York'}."
      ]
    },
    {
      "cell_type": "code",
      "metadata": {
        "colab": {
          "base_uri": "https://localhost:8080/"
        },
        "id": "ed268fc2",
        "outputId": "e234c6e7-312f-4cf6-fdd1-072eaef0724c"
      },
      "source": [
        "print(\"hello world\")"
      ],
      "execution_count": 17,
      "outputs": [
        {
          "output_type": "stream",
          "name": "stdout",
          "text": [
            "hello world\n"
          ]
        }
      ]
    },
    {
      "cell_type": "markdown",
      "metadata": {
        "id": "b1835ff3"
      },
      "source": [
        "**Question 25**: Write a code to check if the key \"city\" exists in the dictionary {'name': 'Alice', 'city': 'Paris'}."
      ]
    },
    {
      "cell_type": "code",
      "metadata": {
        "colab": {
          "base_uri": "https://localhost:8080/"
        },
        "id": "0cb0d1e8",
        "outputId": "d1825f11-3a0e-4cd8-d6fe-2533a2ea1fc3"
      },
      "source": [
        "print(\"hello world\")"
      ],
      "execution_count": 18,
      "outputs": [
        {
          "output_type": "stream",
          "name": "stdout",
          "text": [
            "hello world\n"
          ]
        }
      ]
    },
    {
      "cell_type": "markdown",
      "metadata": {
        "id": "b40c4589"
      },
      "source": [
        "**Question 26**: Write a code to create a list, a tuple, and a dictionary, and print them all."
      ]
    },
    {
      "cell_type": "code",
      "metadata": {
        "colab": {
          "base_uri": "https://localhost:8080/"
        },
        "id": "7644ae8a",
        "outputId": "51d230b2-18f3-4ecc-8320-1651a117ab7e"
      },
      "source": [
        "print(\"hello world\")"
      ],
      "execution_count": 19,
      "outputs": [
        {
          "output_type": "stream",
          "name": "stdout",
          "text": [
            "hello world\n"
          ]
        }
      ]
    },
    {
      "cell_type": "markdown",
      "metadata": {
        "id": "f3d97a18"
      },
      "source": [
        "**Question 27**: Write a code to create a list of 5 random numbers between 1 and 100, sort it in ascending order, and print the result."
      ]
    },
    {
      "cell_type": "code",
      "metadata": {
        "colab": {
          "base_uri": "https://localhost:8080/"
        },
        "id": "dee51d95",
        "outputId": "899669fa-d47b-4f34-fd59-04bc16590e13"
      },
      "source": [
        "print(\"hello world\")"
      ],
      "execution_count": 20,
      "outputs": [
        {
          "output_type": "stream",
          "name": "stdout",
          "text": [
            "hello world\n"
          ]
        }
      ]
    },
    {
      "cell_type": "markdown",
      "metadata": {
        "id": "2d9842e1"
      },
      "source": [
        "**Question 28**: Write a code to create a list with strings and print the element at the third index."
      ]
    },
    {
      "cell_type": "code",
      "metadata": {
        "colab": {
          "base_uri": "https://localhost:8080/"
        },
        "id": "d59dd504",
        "outputId": "27572b3c-e577-4ab1-db23-2a2b8651f399"
      },
      "source": [
        "print(\"hello world\")"
      ],
      "execution_count": 21,
      "outputs": [
        {
          "output_type": "stream",
          "name": "stdout",
          "text": [
            "hello world\n"
          ]
        }
      ]
    },
    {
      "cell_type": "markdown",
      "metadata": {
        "id": "197ca8dc"
      },
      "source": [
        "**Question 29**: Write a code to combine two dictionaries into one and print the result."
      ]
    },
    {
      "cell_type": "code",
      "metadata": {
        "colab": {
          "base_uri": "https://localhost:8080/"
        },
        "id": "e4bb5e91",
        "outputId": "cf4d81b9-68ca-4f5a-b6f7-ff552f4b238f"
      },
      "source": [
        "print(\"hello world\")"
      ],
      "execution_count": 22,
      "outputs": [
        {
          "output_type": "stream",
          "name": "stdout",
          "text": [
            "hello world\n"
          ]
        }
      ]
    },
    {
      "cell_type": "markdown",
      "metadata": {
        "id": "cdc09e1c"
      },
      "source": [
        "**Question 30**: Write a code to convert a list of strings into a set."
      ]
    },
    {
      "cell_type": "code",
      "metadata": {
        "colab": {
          "base_uri": "https://localhost:8080/"
        },
        "id": "acb89b2d",
        "outputId": "0d13ff79-96c3-4e9a-9d22-3143a9e260a1"
      },
      "source": [
        "print(\"hello world\")"
      ],
      "execution_count": 23,
      "outputs": [
        {
          "output_type": "stream",
          "name": "stdout",
          "text": [
            "hello world\n"
          ]
        }
      ]
    },
    {
      "cell_type": "markdown",
      "metadata": {
        "id": "3693dd1f"
      },
      "source": [
        "**Question 1**: Write a code to create a string with your name and print it."
      ]
    },
    {
      "cell_type": "code",
      "metadata": {
        "colab": {
          "base_uri": "https://localhost:8080/"
        },
        "id": "dfdc7290",
        "outputId": "f57518ba-2be0-4c05-cc54-12024d38178b"
      },
      "source": [
        "print(\"hello world\")"
      ],
      "execution_count": 24,
      "outputs": [
        {
          "output_type": "stream",
          "name": "stdout",
          "text": [
            "hello world\n"
          ]
        }
      ]
    },
    {
      "cell_type": "markdown",
      "metadata": {
        "id": "129aa239"
      },
      "source": [
        "**Question 2**: Write a code to find the length of the string \"Hello World\"."
      ]
    },
    {
      "cell_type": "code",
      "metadata": {
        "colab": {
          "base_uri": "https://localhost:8080/"
        },
        "id": "6069f2b9",
        "outputId": "f6a3d600-fc45-49c0-9272-fd5e3fa5faf9"
      },
      "source": [
        "print(\"hello world\")"
      ],
      "execution_count": 25,
      "outputs": [
        {
          "output_type": "stream",
          "name": "stdout",
          "text": [
            "hello world\n"
          ]
        }
      ]
    },
    {
      "cell_type": "markdown",
      "metadata": {
        "id": "2e00d26c"
      },
      "source": [
        "**Question 3**: Write a code to slice the first 3 characters from the string \"Python Programming\"."
      ]
    },
    {
      "cell_type": "code",
      "metadata": {
        "colab": {
          "base_uri": "https://localhost:8080/"
        },
        "id": "cf27932c",
        "outputId": "260efb24-bd46-4d13-9626-d5d24c0a9dc8"
      },
      "source": [
        "print(\"hello world\")"
      ],
      "execution_count": 26,
      "outputs": [
        {
          "output_type": "stream",
          "name": "stdout",
          "text": [
            "hello world\n"
          ]
        }
      ]
    },
    {
      "cell_type": "markdown",
      "metadata": {
        "id": "f2c10393"
      },
      "source": [
        "**Question 4**: Write a code to convert the string \"hello\" to uppercase."
      ]
    },
    {
      "cell_type": "code",
      "metadata": {
        "colab": {
          "base_uri": "https://localhost:8080/"
        },
        "id": "d3e704c8",
        "outputId": "90174c5c-5c2f-4f1a-d6d5-0e3db359697e"
      },
      "source": [
        "print(\"hello world\")"
      ],
      "execution_count": 27,
      "outputs": [
        {
          "output_type": "stream",
          "name": "stdout",
          "text": [
            "hello world\n"
          ]
        }
      ]
    },
    {
      "cell_type": "markdown",
      "metadata": {
        "id": "3fa61d71"
      },
      "source": [
        "**Question 5**: Write a code to replace the word \"apple\" with \"orange\" in the string \"I like apple\"."
      ]
    },
    {
      "cell_type": "code",
      "metadata": {
        "colab": {
          "base_uri": "https://localhost:8080/"
        },
        "id": "3c048fd5",
        "outputId": "4ba30521-77d1-43b1-bb72-63683432bc74"
      },
      "source": [
        "print(\"hello world\")"
      ],
      "execution_count": 28,
      "outputs": [
        {
          "output_type": "stream",
          "name": "stdout",
          "text": [
            "hello world\n"
          ]
        }
      ]
    },
    {
      "cell_type": "markdown",
      "metadata": {
        "id": "d3199c3a"
      },
      "source": [
        "**Question 6**: Write a code to create a list with numbers 1 to 5 and print it."
      ]
    },
    {
      "cell_type": "code",
      "metadata": {
        "colab": {
          "base_uri": "https://localhost:8080/"
        },
        "id": "b892094a",
        "outputId": "c1af1bc5-b6bf-403b-9196-c3f0d116af4e"
      },
      "source": [
        "print(\"hello world\")"
      ],
      "execution_count": 29,
      "outputs": [
        {
          "output_type": "stream",
          "name": "stdout",
          "text": [
            "hello world\n"
          ]
        }
      ]
    },
    {
      "cell_type": "markdown",
      "metadata": {
        "id": "5bec654f"
      },
      "source": [
        "**Question 7**: Write a code to append the number 10 to the list [1, 2, 3, 4]."
      ]
    },
    {
      "cell_type": "code",
      "metadata": {
        "colab": {
          "base_uri": "https://localhost:8080/"
        },
        "id": "30a721c6",
        "outputId": "2dd091e8-7d83-4756-860c-080fc4b74647"
      },
      "source": [
        "print(\"hello world\")"
      ],
      "execution_count": 30,
      "outputs": [
        {
          "output_type": "stream",
          "name": "stdout",
          "text": [
            "hello world\n"
          ]
        }
      ]
    },
    {
      "cell_type": "markdown",
      "metadata": {
        "id": "9e511739"
      },
      "source": [
        "**Question 8**: Write a code to remove the number 3 from the list [1, 2, 3, 4, 5]."
      ]
    },
    {
      "cell_type": "code",
      "metadata": {
        "colab": {
          "base_uri": "https://localhost:8080/"
        },
        "id": "86947e67",
        "outputId": "17c5bdfe-fb87-4a3d-fcc3-8c7696405c5c"
      },
      "source": [
        "print(\"hello world\")"
      ],
      "execution_count": 31,
      "outputs": [
        {
          "output_type": "stream",
          "name": "stdout",
          "text": [
            "hello world\n"
          ]
        }
      ]
    },
    {
      "cell_type": "markdown",
      "metadata": {
        "id": "6cc701aa"
      },
      "source": [
        "**Question 9**: Write a code to access the second element in the list ['a', 'b', 'c', 'd']."
      ]
    },
    {
      "cell_type": "code",
      "metadata": {
        "colab": {
          "base_uri": "https://localhost:8080/"
        },
        "id": "22c57d57",
        "outputId": "7a8f37e7-ae9e-4154-93a2-92db826c394b"
      },
      "source": [
        "print(\"hello world\")"
      ],
      "execution_count": 32,
      "outputs": [
        {
          "output_type": "stream",
          "name": "stdout",
          "text": [
            "hello world\n"
          ]
        }
      ]
    },
    {
      "cell_type": "markdown",
      "metadata": {
        "id": "9eb68337"
      },
      "source": [
        "**Question 10**: Write a code to reverse the list [10, 20, 30, 40, 50]."
      ]
    },
    {
      "cell_type": "code",
      "metadata": {
        "colab": {
          "base_uri": "https://localhost:8080/"
        },
        "id": "1b5b9aae",
        "outputId": "500d4ecc-6706-4252-beaa-541ceaf34554"
      },
      "source": [
        "print(\"hello world\")"
      ],
      "execution_count": 33,
      "outputs": [
        {
          "output_type": "stream",
          "name": "stdout",
          "text": [
            "hello world\n"
          ]
        }
      ]
    }
  ]
}