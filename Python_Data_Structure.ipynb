{
  "cells": [
    {
      "cell_type": "markdown",
      "metadata": {
        "colab_type": "text",
        "id": "view-in-github"
      },
      "source": [
        "<a href=\"https://colab.research.google.com/github/Deeakpant9759/Pw_Assignment/blob/master/Python_Data_Structure.ipynb\" target=\"_parent\"><img src=\"https://colab.research.google.com/assets/colab-badge.svg\" alt=\"Open In Colab\"/></a>"
      ]
    },
    {
      "cell_type": "markdown",
      "metadata": {
        "id": "87edd6c6"
      },
      "source": [
        "**Question 1**: What are data structures, and why are they important?\n",
        "\n",
        "**Answer 1**:Data structures are the way to orginize and store data . data structures helps us to maintain the data in a well structure way.\n",
        "examples:\n",
        "Array , list,dictinoaries,tuple and lot more"
      ]
    },
    {
      "cell_type": "markdown",
      "metadata": {
        "id": "a878937b"
      },
      "source": [
        "**Question 2**: Explain the difference between mutable and immutable data types with examples\n",
        "\n",
        "**Answer 2**: mutable are those data types where can add , remove or update the data after been constructed but in immutable once there are create they can't be helped with add,remove or update\n",
        "\n",
        "example: mutable : lists,dictionaries , immutable :tuples,string"
      ]
    },
    {
      "cell_type": "markdown",
      "metadata": {
        "id": "c3ab09dc"
      },
      "source": [
        "**Question 3**: What are the main differences between lists and tuples in Python?\n",
        "\n",
        "**Answer 3**: the main differance between lists is mutablity and imutability once tuples are create they can't be updated , appended or removed item form them meanwhile list can be updated, appended and removed list are made up of dyanamic storage while typle are staic. performance wise tuple are faster then list. we can use tuple for fixed data like account number of bank once created can't be changes and password can be lists so we can change. just for example."
      ]
    },
    {
      "cell_type": "markdown",
      "metadata": {
        "id": "504fb8f0"
      },
      "source": [
        "**Question 4**: Describe how dictionaries store data\n",
        "\n",
        "**Answer 4**: dectionaries store the data in formet of key and pair. every unique key will have its values and key can't be more then one but the values insde the key can be more then one in another key. if we try to add a key already in the data so it will overwrite the old key. we can say key mush be hashable means immutable.\n",
        "example: \n",
        "data = {Deepak:13}\n",
        "here  deepak is key and 13 is its value"
      ]
    },
    {
      "cell_type": "markdown",
      "metadata": {
        "id": "d5597f9a"
      },
      "source": [
        "**Question 5**: Why might you use a set instead of a list in Python?\n",
        "\n",
        "**Answer 5**: when we need unique values in our data set menas values can't repate so i will use set instead of lists and set are fast in searching compare to list i will get better time complixty in using set instead of lists . we can also perform mathmatical set opreation like join , interseciton and union on set so they are help full there."
      ]
    },
    {
      "cell_type": "markdown",
      "metadata": {
        "id": "9f28e99c"
      },
      "source": [
        "**Question 6**: What is a string in Python, and how is it different from a list?\n",
        "\n",
        "**Answer 6**:string are the sequence of chars in python .They are used to store the text data only, and if u want to put a word to stirng u have spacify the dubble quote and then enter the word inside the dubble or single quote example \"DEEPAK\" the is an string the different between str and lists are string can story only text data but list can store any data type , string are mutable but lists are immutable , used enclosed quotes('') and list used square bractes ([]) . "
      ]
    },
    {
      "cell_type": "markdown",
      "metadata": {
        "id": "2bfba97d"
      },
      "source": [
        "**Question 7**: How do tuples ensure data integrity in Python?\n",
        "\n",
        "**Answer 7**: Tuples helps data integrity because its immutable nature becuase once they are created so they can't be changes so that help the data with security to aovid unwanted modification. menas when it shows to user it is always in read only mode any one can't write to them so that't so why tere are help full in data itergrity \n",
        "example: bank account number , data base ID , cordinates , keys and lot more."
      ]
    },
    {
      "cell_type": "markdown",
      "metadata": {
        "id": "413ab49e"
      },
      "source": [
        "**Question 8**: What is a hash table, and how does it relate to dictionaries in Python?\n",
        "\n",
        "**Answer 8**:A hash table stores data in key–value pairs, allowing us to access values very quickly using their keys.Python dictionaries (dict) work the same way: each key–value pair in a dictionary is stored internally as part of a hash table, so Python can locate a value fast using its key."
      ]
    },
    {
      "cell_type": "markdown",
      "metadata": {
        "id": "a2d5ed5a"
      },
      "source": [
        "**Question 9**: Can lists contain different data types in Python?\n",
        "\n",
        "**Answer 9**:yes lists can contain various data type.\n",
        "example : [1,'deepak',True]"
      ]
    },
    {
      "cell_type": "markdown",
      "metadata": {
        "id": "d9dd9e25"
      },
      "source": [
        "**Question 10**: Explain why strings are immutable in Python\n",
        "\n",
        "**Answer 10**: main reason is safety because in dict string are used as key so if they are mutable they can break the flow that , speed immutablity makes python faster so they can work fast the so why strings are immutable"
      ]
    },
    {
      "cell_type": "markdown",
      "metadata": {
        "id": "e6f9dc7d"
      },
      "source": [
        "**Question 11**: What advantages do dictionaries offer over lists for certain tasks?\n",
        "\n",
        "**Answer 11**: Advantage of dictonaries are they store the data in key values pair so make data more strucutre and easy to look and way more faster to process the data and can used to delete , update using by key. that's the reason dict are better then list in key value pair tasks"
      ]
    },
    {
      "cell_type": "markdown",
      "metadata": {
        "id": "cd2c76c1"
      },
      "source": [
        "**Question 12**: Describe a scenario where using a tuple would be preferable over a list\n",
        " \n",
        "**Answer 12**: example like stroing the cordinate of certain space like (x,y) if we use list they can be modified easy and like using tuple in key to dict they can helful there like exmple \n",
        "data = {  (40.7128, -74.0060): \"New York\",\n",
        "    (34.0522, -118.2437): \"Los Angeles\",\n",
        "    (51.5074, -0.1278): \"London\"}"
      ]
    },
    {
      "cell_type": "markdown",
      "metadata": {
        "id": "aebd475e"
      },
      "source": [
        "**Question 13**: How do sets handle duplicate values in Python?\n",
        "\n",
        "**Answer 13**:sets removes the duplicates form the data and remain the single unique value in the data exaple data = {1,2,3,1,2,3} we gave it but set will convert it like data = {1,2,3}"
      ]
    },
    {
      "cell_type": "markdown",
      "metadata": {
        "id": "19a7ce92"
      },
      "source": [
        "**Question 14**: How does the “in” keyword work differently for lists and dictionaries?\n",
        "\n",
        "**Answer 14**:for lists, x in list checks each element one by one (o(n)). for dictionaries, x in dict checks keys using hashing (o(1) average). dictionary lookups are fast because keys are hashable; list lookups are slower because they require scanning each element."
      ]
    },
    {
      "cell_type": "markdown",
      "metadata": {
        "id": "b6fefebb"
      },
      "source": [
        "**Question 15**: Can you modify the elements of a tuple? Explain why or why not\n",
        "\n",
        "**Answer 15**: no we can't modify the elemnts of tuple because they are immutable so they can't be modifyed . to make data fixed and safe that's so why not it should be modifed"
      ]
    },
    {
      "cell_type": "markdown",
      "metadata": {
        "id": "0640ff3e"
      },
      "source": [
        "**Question 16**: What is a nested dictionary, and give an example of its use case?\n",
        "\n",
        "**Answer 16**: Nested dictionary that contins another dictionary inside it and its value, its is use full for making data structured and hierachical. example :\n",
        "data = {\n",
        "\n",
        "    P001:{\n",
        "        'name' : \"deepak\"\n",
        "        'class':\"1st\"\n",
        "    }\n",
        "}"
      ]
    },
    {
      "cell_type": "markdown",
      "metadata": {
        "id": "47b10054"
      },
      "source": [
        "**Question 17**: Describe the time complexity of accessing elements in a dictionary\n",
        "\n",
        "**Answer 17**: O(1) menas it will take constant time . beacuse the hash nature of dictionary which helps to locate the values directly"
      ]
    },
    {
      "cell_type": "markdown",
      "metadata": {
        "id": "4cddee32"
      },
      "source": [
        "**Question 18**: In what situations are lists preferred over dictionaries?\n",
        "\n",
        "**Answer 18**: when we want't store the data in  any order , need frequncy , repated values.\n",
        "example score = [1,2,34,5,6,7] \n"
      ]
    },
    {
      "cell_type": "markdown",
      "metadata": {
        "id": "806bd001"
      },
      "source": [
        "**Question 19**: Why are dictionaries considered unordered, and how does that affect data retrieval?\n",
        "\n",
        "**Answer 19**:becuase the order of key values is not guenteed in dictionaries as like in list we can access the element using the index the rerieval of data is affect becuase we can access the data only by using the key not the index and it use hash so the memory location is differ then we gave. "
      ]
    },
    {
      "cell_type": "markdown",
      "metadata": {
        "id": "b9a06ede"
      },
      "source": [
        "**Question 20**: Explain the difference between a list and a dictionary in terms of data retrieval.\n",
        "\n",
        "**Answer 20**:dictionary used key to access the values and list uses index , we can access values by slicing in list but not in dict so multipal vlaues can be rerived using list but in dict one key one data type value."
      ]
    },
    {
      "cell_type": "markdown",
      "metadata": {
        "id": "90702720"
      },
      "source": [
        "**Question 11**: Write a code to create a tuple with the elements 100, 200, 300 and print it."
      ]
    },
    {
      "cell_type": "code",
      "execution_count": null,
      "metadata": {
        "colab": {
          "base_uri": "https://localhost:8080/"
        },
        "id": "9e161feb",
        "outputId": "14299216-c5c1-434d-ad9a-f355235c62f9"
      },
      "outputs": [
        {
          "data": {
            "text/plain": [
              "(100, 200, 300)"
            ]
          },
          "execution_count": 3,
          "metadata": {},
          "output_type": "execute_result"
        }
      ],
      "source": [
        "data = (100,200,300)\n",
        "print(data)"
      ]
    },
    {
      "cell_type": "markdown",
      "metadata": {
        "id": "21726e7c"
      },
      "source": [
        "**Question 12**: Write a code to access the second-to-last element of the tuple ('red', 'green', 'blue', 'yellow')."
      ]
    },
    {
      "cell_type": "code",
      "execution_count": null,
      "metadata": {
        "colab": {
          "base_uri": "https://localhost:8080/"
        },
        "id": "c931ff0c",
        "outputId": "8e19ac85-1e71-47a2-9432-5b0e03507a4d"
      },
      "outputs": [
        {
          "data": {
            "text/plain": [
              "'blue'"
            ]
          },
          "execution_count": 5,
          "metadata": {},
          "output_type": "execute_result"
        }
      ],
      "source": [
        "data = ('red', 'green', 'blue', 'yellow')\n",
        "print(data[-2])"
      ]
    },
    {
      "cell_type": "markdown",
      "metadata": {
        "id": "d06537b0"
      },
      "source": [
        "**Question 13**: Write a code to find the minimum number in the tuple (10, 20, 5, 15)."
      ]
    },
    {
      "cell_type": "code",
      "execution_count": null,
      "metadata": {
        "colab": {
          "base_uri": "https://localhost:8080/"
        },
        "id": "4c7e5c2f",
        "outputId": "cc25131a-2ef5-49dd-a49c-41935562d05e"
      },
      "outputs": [
        {
          "data": {
            "text/plain": [
              "5"
            ]
          },
          "execution_count": 6,
          "metadata": {},
          "output_type": "execute_result"
        }
      ],
      "source": [
        "data = (10,20,5,15)\n",
        "print(min(data))"
      ]
    },
    {
      "cell_type": "markdown",
      "metadata": {
        "id": "1b13dfd9"
      },
      "source": [
        "**Question 14**: Write a code to find the index of the element \"cat\" in the tuple ('dog', 'cat', 'rabbit')."
      ]
    },
    {
      "cell_type": "code",
      "execution_count": null,
      "metadata": {
        "colab": {
          "base_uri": "https://localhost:8080/"
        },
        "id": "9634462b",
        "outputId": "6d019cc8-4542-4c05-ee41-3689a487103c"
      },
      "outputs": [
        {
          "data": {
            "text/plain": [
              "1"
            ]
          },
          "execution_count": 7,
          "metadata": {},
          "output_type": "execute_result"
        }
      ],
      "source": [
        "data = ('dog','cat','rabbit')\n",
        "print(data.index('cat'))"
      ]
    },
    {
      "cell_type": "markdown",
      "metadata": {
        "id": "f49910a4"
      },
      "source": [
        "**Question 15**: Write a code to create a tuple containing three different fruits and check if \"kiwi\" is in it."
      ]
    },
    {
      "cell_type": "code",
      "execution_count": null,
      "metadata": {
        "colab": {
          "base_uri": "https://localhost:8080/"
        },
        "id": "c942595f",
        "outputId": "4289f2a5-5704-4db7-93d0-0356d66d4618"
      },
      "outputs": [
        {
          "data": {
            "text/plain": [
              "True"
            ]
          },
          "execution_count": 8,
          "metadata": {},
          "output_type": "execute_result"
        }
      ],
      "source": [
        "data = ('kiwi','apple','banana')\n",
        "print('kiwi' in data)"
      ]
    },
    {
      "cell_type": "markdown",
      "metadata": {
        "id": "f158c281"
      },
      "source": [
        "**Question 16**: Write a code to create a set with the elements 'a', 'b', 'c' and print it."
      ]
    },
    {
      "cell_type": "code",
      "execution_count": 14,
      "metadata": {
        "id": "482894c3"
      },
      "outputs": [
        {
          "name": "stdout",
          "output_type": "stream",
          "text": [
            "{'c', 'b', 'a'}\n"
          ]
        }
      ],
      "source": [
        "data = set({'a','b','c'})\n",
        "print(data)"
      ]
    },
    {
      "cell_type": "markdown",
      "metadata": {
        "id": "b2d6609e"
      },
      "source": [
        "**Question 17**: Write a code to clear all elements from the set {1, 2, 3, 4, 5}."
      ]
    },
    {
      "cell_type": "code",
      "execution_count": 15,
      "metadata": {
        "colab": {
          "base_uri": "https://localhost:8080/"
        },
        "id": "9dc918a0",
        "outputId": "ef9acdea-8846-4db9-e3b4-55b651390da1"
      },
      "outputs": [
        {
          "name": "stdout",
          "output_type": "stream",
          "text": [
            "{1, 2, 3, 4, 5}\n",
            "set()\n"
          ]
        }
      ],
      "source": [
        "data = set({1,2,3,4,5})\n",
        "print(data)\n",
        "data.clear()\n",
        "print(data)\n"
      ]
    },
    {
      "cell_type": "markdown",
      "metadata": {
        "id": "b053789c"
      },
      "source": [
        "**Question 18**: Write a code to remove the element 4 from the set {1, 2, 3, 4}."
      ]
    },
    {
      "cell_type": "code",
      "execution_count": 17,
      "metadata": {
        "colab": {
          "base_uri": "https://localhost:8080/"
        },
        "id": "12705115",
        "outputId": "9a1effc6-491f-417f-f4f5-1587eb52f419"
      },
      "outputs": [
        {
          "name": "stdout",
          "output_type": "stream",
          "text": [
            "{1, 2, 3}\n"
          ]
        }
      ],
      "source": [
        "data = set({1,2,3,4})\n",
        "data.remove(4)\n",
        "print(data)"
      ]
    },
    {
      "cell_type": "markdown",
      "metadata": {
        "id": "d8811e83"
      },
      "source": [
        "**Question 19**: Write a code to find the union of two sets {1, 2, 3} and {3, 4, 5}."
      ]
    },
    {
      "cell_type": "code",
      "execution_count": 20,
      "metadata": {
        "colab": {
          "base_uri": "https://localhost:8080/"
        },
        "id": "c9e0f625",
        "outputId": "7e4d4fc8-f0cf-440d-8eb6-3d2edc223fb3"
      },
      "outputs": [
        {
          "name": "stdout",
          "output_type": "stream",
          "text": [
            "{1, 2, 3, 4, 5}\n"
          ]
        }
      ],
      "source": [
        "set1= {1,2,3}\n",
        "set2 = {3,4,5}\n",
        "print(set.union(set1,set2))"
      ]
    },
    {
      "cell_type": "markdown",
      "metadata": {
        "id": "05a24331"
      },
      "source": [
        "**Question 20**: Write a code to find the intersection of two sets {1, 2, 3} and {2, 3, 4}."
      ]
    },
    {
      "cell_type": "code",
      "execution_count": 22,
      "metadata": {
        "colab": {
          "base_uri": "https://localhost:8080/"
        },
        "id": "c650aa34",
        "outputId": "8e243220-f67d-4b51-ad15-b35d4357910f"
      },
      "outputs": [
        {
          "name": "stdout",
          "output_type": "stream",
          "text": [
            "{3}\n"
          ]
        }
      ],
      "source": [
        "print(set.intersection(set1,set2))"
      ]
    },
    {
      "cell_type": "markdown",
      "metadata": {
        "id": "7945366c"
      },
      "source": [
        "**Question 21**: Write a code to create a dictionary with the keys \"name\", \"age\", and \"city\", and print it."
      ]
    },
    {
      "cell_type": "code",
      "execution_count": 24,
      "metadata": {
        "colab": {
          "base_uri": "https://localhost:8080/"
        },
        "id": "231c15db",
        "outputId": "ec15f157-6c5e-46bb-d0f2-3c29fa557b49"
      },
      "outputs": [
        {
          "name": "stdout",
          "output_type": "stream",
          "text": [
            "{'name': 'Deepak', 'age': 21, 'city': 'Noida'}\n"
          ]
        }
      ],
      "source": [
        "data = {\n",
        "    'name':'Deepak',\n",
        "    'age':21,\n",
        "    'city':'Noida'\n",
        "}\n",
        "print(data)"
      ]
    },
    {
      "cell_type": "markdown",
      "metadata": {
        "id": "15f3c90a"
      },
      "source": [
        "**Question 22**: Write a code to add a new key-value pair \"country\": \"USA\" to the dictionary {'name': 'John', 'age': 25}."
      ]
    },
    {
      "cell_type": "code",
      "execution_count": 25,
      "metadata": {
        "colab": {
          "base_uri": "https://localhost:8080/"
        },
        "id": "9a9af8df",
        "outputId": "b36d4679-0784-438c-a3cc-df0ccffac503"
      },
      "outputs": [
        {
          "name": "stdout",
          "output_type": "stream",
          "text": [
            "{'name': 'John', 'age': 25, 'country': 'USA'}\n"
          ]
        }
      ],
      "source": [
        "data = {'name': 'John', 'age': 25}\n",
        "data['country'] = 'USA'\n",
        "print(data)"
      ]
    },
    {
      "cell_type": "markdown",
      "metadata": {
        "id": "ac546a54"
      },
      "source": [
        "**Question 23**: Write a code to access the value associated with the key \"name\" in the dictionary {'name': 'Alice', 'age': 30}."
      ]
    },
    {
      "cell_type": "code",
      "execution_count": 27,
      "metadata": {
        "colab": {
          "base_uri": "https://localhost:8080/"
        },
        "id": "acaf8f80",
        "outputId": "cb77bd2c-b109-4d34-a6b5-32b849e71da1"
      },
      "outputs": [
        {
          "name": "stdout",
          "output_type": "stream",
          "text": [
            "Alice\n"
          ]
        }
      ],
      "source": [
        "data={'name': 'Alice', 'age': 30}\n",
        "print(data['name'])"
      ]
    },
    {
      "cell_type": "markdown",
      "metadata": {
        "id": "01c2a6c1"
      },
      "source": [
        "**Question 24**: Write a code to remove the key \"age\" from the dictionary {'name': 'Bob', 'age': 22, 'city': 'New York'}."
      ]
    },
    {
      "cell_type": "code",
      "execution_count": 30,
      "metadata": {
        "colab": {
          "base_uri": "https://localhost:8080/"
        },
        "id": "ed268fc2",
        "outputId": "e234c6e7-312f-4cf6-fdd1-072eaef0724c"
      },
      "outputs": [
        {
          "name": "stdout",
          "output_type": "stream",
          "text": [
            "{'name': 'Bob', 'city': 'New York'}\n"
          ]
        }
      ],
      "source": [
        "data = {'name': 'Bob', 'age': 22, 'city': 'New York'}\n",
        "data.pop('age')\n",
        "print(data)"
      ]
    },
    {
      "cell_type": "markdown",
      "metadata": {
        "id": "b1835ff3"
      },
      "source": [
        "**Question 25**: Write a code to check if the key \"city\" exists in the dictionary {'name': 'Alice', 'city': 'Paris'}."
      ]
    },
    {
      "cell_type": "code",
      "execution_count": null,
      "metadata": {
        "colab": {
          "base_uri": "https://localhost:8080/"
        },
        "id": "0cb0d1e8",
        "outputId": "d1825f11-3a0e-4cd8-d6fe-2533a2ea1fc3"
      },
      "outputs": [
        {
          "name": "stdout",
          "output_type": "stream",
          "text": [
            "True\n",
            "Paris\n"
          ]
        }
      ],
      "source": [
        "data = {'name': 'Alice', 'city': 'Paris'}\n",
        "print('city' in data)"
      ]
    },
    {
      "cell_type": "markdown",
      "metadata": {
        "id": "b40c4589"
      },
      "source": [
        "**Question 26**: Write a code to create a list, a tuple, and a dictionary, and print them all."
      ]
    },
    {
      "cell_type": "code",
      "execution_count": 33,
      "metadata": {
        "colab": {
          "base_uri": "https://localhost:8080/"
        },
        "id": "7644ae8a",
        "outputId": "51d230b2-18f3-4ecc-8320-1651a117ab7e"
      },
      "outputs": [
        {
          "name": "stdout",
          "output_type": "stream",
          "text": [
            "list : [1, 2, 4] \n",
            " tuple:(1, 23, 4) \n",
            " dict: {'key': 'pair'}\n"
          ]
        }
      ],
      "source": [
        "data1 = [1,2,4]\n",
        "data2 = (1,23,4)\n",
        "data3 = {'key':'pair'}\n",
        "print(f\"list : {data1} \\n tuple:{data2} \\n dict: {data3}\")"
      ]
    },
    {
      "cell_type": "markdown",
      "metadata": {
        "id": "f3d97a18"
      },
      "source": [
        "**Question 27**: Write a code to create a list of 5 random numbers between 1 and 100, sort it in ascending order, and print the result."
      ]
    },
    {
      "cell_type": "code",
      "execution_count": 35,
      "metadata": {
        "colab": {
          "base_uri": "https://localhost:8080/"
        },
        "id": "dee51d95",
        "outputId": "899669fa-d47b-4f34-fd59-04bc16590e13"
      },
      "outputs": [
        {
          "name": "stdout",
          "output_type": "stream",
          "text": [
            "[17, 22, 28, 60, 87]\n"
          ]
        }
      ],
      "source": [
        "from random import randint as rn\n",
        "data = [ rn(1,100) for _ in range(1,6) ]\n",
        "data.sort()\n",
        "print(data)"
      ]
    },
    {
      "cell_type": "markdown",
      "metadata": {
        "id": "2d9842e1"
      },
      "source": [
        "**Question 28**: Write a code to create a list with strings and print the element at the third index."
      ]
    },
    {
      "cell_type": "code",
      "execution_count": 39,
      "metadata": {
        "colab": {
          "base_uri": "https://localhost:8080/"
        },
        "id": "d59dd504",
        "outputId": "27572b3c-e577-4ab1-db23-2a2b8651f399"
      },
      "outputs": [
        {
          "name": "stdout",
          "output_type": "stream",
          "text": [
            "d\n",
            "c\n"
          ]
        }
      ],
      "source": [
        "data = ['a','b','c','d']\n",
        "print(data[3]) # index 3rd\n",
        "print(data[2])#element at 3 number"
      ]
    },
    {
      "cell_type": "markdown",
      "metadata": {
        "id": "197ca8dc"
      },
      "source": [
        "**Question 29**: Write a code to combine two dictionaries into one and print the result."
      ]
    },
    {
      "cell_type": "code",
      "execution_count": 45,
      "metadata": {
        "colab": {
          "base_uri": "https://localhost:8080/"
        },
        "id": "e4bb5e91",
        "outputId": "cf4d81b9-68ca-4f5a-b6f7-ff552f4b238f"
      },
      "outputs": [
        {
          "name": "stdout",
          "output_type": "stream",
          "text": [
            "{'a': 1, 'b': 2, 'c': 3, 'd': 4}\n",
            "{'a': 1, 'b': 2, 'c': 3, 'd': 4}\n"
          ]
        }
      ],
      "source": [
        "dict1 = {'a': 1, 'b': 2}\n",
        "dict2 = {'c': 3, 'd': 4}\n",
        "\n",
        "print({**dict1,**dict2})\n",
        "data = dict1.copy()\n",
        "data.update(dict2)\n",
        "print(data)"
      ]
    },
    {
      "cell_type": "markdown",
      "metadata": {
        "id": "cdc09e1c"
      },
      "source": [
        "**Question 30**: Write a code to convert a list of strings into a set."
      ]
    },
    {
      "cell_type": "code",
      "execution_count": 47,
      "metadata": {
        "colab": {
          "base_uri": "https://localhost:8080/"
        },
        "id": "acb89b2d",
        "outputId": "0d13ff79-96c3-4e9a-9d22-3143a9e260a1"
      },
      "outputs": [
        {
          "name": "stdout",
          "output_type": "stream",
          "text": [
            "{0, 1, 35, 4, 5, 23, 42241241}\n"
          ]
        }
      ],
      "source": [
        "data = [1,1,1,23,4,42241241,4,35,5,0]\n",
        "set_data = set(data)\n",
        "print(set_data)\n"
      ]
    },
    {
      "cell_type": "markdown",
      "metadata": {
        "id": "3693dd1f"
      },
      "source": [
        "**Question 1**: Write a code to create a string with your name and print it."
      ]
    },
    {
      "cell_type": "code",
      "execution_count": 48,
      "metadata": {
        "colab": {
          "base_uri": "https://localhost:8080/"
        },
        "id": "dfdc7290",
        "outputId": "f57518ba-2be0-4c05-cc54-12024d38178b"
      },
      "outputs": [
        {
          "name": "stdout",
          "output_type": "stream",
          "text": [
            "Deepak\n"
          ]
        }
      ],
      "source": [
        "name = \"Deepak\"\n",
        "print(name)"
      ]
    },
    {
      "cell_type": "markdown",
      "metadata": {
        "id": "129aa239"
      },
      "source": [
        "**Question 2**: Write a code to find the length of the string \"Hello World\"."
      ]
    },
    {
      "cell_type": "code",
      "execution_count": 49,
      "metadata": {
        "colab": {
          "base_uri": "https://localhost:8080/"
        },
        "id": "6069f2b9",
        "outputId": "f6a3d600-fc45-49c0-9272-fd5e3fa5faf9"
      },
      "outputs": [
        {
          "name": "stdout",
          "output_type": "stream",
          "text": [
            "11\n"
          ]
        }
      ],
      "source": [
        "print(len(\"Hello World\"))"
      ]
    },
    {
      "cell_type": "markdown",
      "metadata": {
        "id": "2e00d26c"
      },
      "source": [
        "**Question 3**: Write a code to slice the first 3 characters from the string \"Python Programming\"."
      ]
    },
    {
      "cell_type": "code",
      "execution_count": 50,
      "metadata": {
        "colab": {
          "base_uri": "https://localhost:8080/"
        },
        "id": "cf27932c",
        "outputId": "260efb24-bd46-4d13-9626-d5d24c0a9dc8"
      },
      "outputs": [
        {
          "data": {
            "text/plain": [
              "'Pyt'"
            ]
          },
          "execution_count": 50,
          "metadata": {},
          "output_type": "execute_result"
        }
      ],
      "source": [
        "data = \"Python Programming\"\n",
        "data[:3]"
      ]
    },
    {
      "cell_type": "markdown",
      "metadata": {
        "id": "f2c10393"
      },
      "source": [
        "**Question 4**: Write a code to convert the string \"hello\" to uppercase."
      ]
    },
    {
      "cell_type": "code",
      "execution_count": 54,
      "metadata": {
        "colab": {
          "base_uri": "https://localhost:8080/"
        },
        "id": "d3e704c8",
        "outputId": "90174c5c-5c2f-4f1a-d6d5-0e3db359697e"
      },
      "outputs": [
        {
          "name": "stdout",
          "output_type": "stream",
          "text": [
            "HELLO\n"
          ]
        }
      ],
      "source": [
        "data = \"hello\"\n",
        "data = data.upper()\n",
        "print(data)"
      ]
    },
    {
      "cell_type": "markdown",
      "metadata": {
        "id": "3fa61d71"
      },
      "source": [
        "**Question 5**: Write a code to replace the word \"apple\" with \"orange\" in the string \"I like apple\"."
      ]
    },
    {
      "cell_type": "code",
      "execution_count": 57,
      "metadata": {
        "colab": {
          "base_uri": "https://localhost:8080/"
        },
        "id": "3c048fd5",
        "outputId": "4ba30521-77d1-43b1-bb72-63683432bc74"
      },
      "outputs": [
        {
          "name": "stdout",
          "output_type": "stream",
          "text": [
            "I like orange\n"
          ]
        }
      ],
      "source": [
        "data = \"I like apple\"\n",
        "data=data.replace(\"apple\",\"orange\")\n",
        "print(data)"
      ]
    },
    {
      "cell_type": "markdown",
      "metadata": {
        "id": "d3199c3a"
      },
      "source": [
        "**Question 6**: Write a code to create a list with numbers 1 to 5 and print it."
      ]
    },
    {
      "cell_type": "code",
      "execution_count": 58,
      "metadata": {
        "colab": {
          "base_uri": "https://localhost:8080/"
        },
        "id": "b892094a",
        "outputId": "c1af1bc5-b6bf-403b-9196-c3f0d116af4e"
      },
      "outputs": [
        {
          "name": "stdout",
          "output_type": "stream",
          "text": [
            "[1, 2, 3, 4, 5]\n"
          ]
        }
      ],
      "source": [
        "data = [x for x in range(1,6)]\n",
        "print(data)"
      ]
    },
    {
      "cell_type": "markdown",
      "metadata": {
        "id": "5bec654f"
      },
      "source": [
        "**Question 7**: Write a code to append the number 10 to the list [1, 2, 3, 4]."
      ]
    },
    {
      "cell_type": "code",
      "execution_count": 59,
      "metadata": {
        "colab": {
          "base_uri": "https://localhost:8080/"
        },
        "id": "30a721c6",
        "outputId": "2dd091e8-7d83-4756-860c-080fc4b74647"
      },
      "outputs": [
        {
          "name": "stdout",
          "output_type": "stream",
          "text": [
            "[1, 2, 3, 4, 10]\n"
          ]
        }
      ],
      "source": [
        "data = [x for x in range(1,5)]\n",
        "data.append(10)\n",
        "print(data)"
      ]
    },
    {
      "cell_type": "markdown",
      "metadata": {
        "id": "9e511739"
      },
      "source": [
        "**Question 8**: Write a code to remove the number 3 from the list [1, 2, 3, 4, 5]."
      ]
    },
    {
      "cell_type": "code",
      "execution_count": 62,
      "metadata": {
        "colab": {
          "base_uri": "https://localhost:8080/"
        },
        "id": "86947e67",
        "outputId": "17c5bdfe-fb87-4a3d-fcc3-8c7696405c5c"
      },
      "outputs": [
        {
          "name": "stdout",
          "output_type": "stream",
          "text": [
            "[1, 2, 4, 5]\n"
          ]
        }
      ],
      "source": [
        "data = [x for x in range(1,6)]\n",
        "data.remove(3)\n",
        "print(data)"
      ]
    },
    {
      "cell_type": "markdown",
      "metadata": {
        "id": "6cc701aa"
      },
      "source": [
        "**Question 9**: Write a code to access the second element in the list ['a', 'b', 'c', 'd']."
      ]
    },
    {
      "cell_type": "code",
      "execution_count": 64,
      "metadata": {
        "colab": {
          "base_uri": "https://localhost:8080/"
        },
        "id": "22c57d57",
        "outputId": "7a8f37e7-ae9e-4154-93a2-92db826c394b"
      },
      "outputs": [
        {
          "name": "stdout",
          "output_type": "stream",
          "text": [
            "b\n"
          ]
        }
      ],
      "source": [
        "data=['a', 'b', 'c', 'd']\n",
        "print(data[1])"
      ]
    },
    {
      "cell_type": "markdown",
      "metadata": {
        "id": "9eb68337"
      },
      "source": [
        "**Question 10**: Write a code to reverse the list [10, 20, 30, 40, 50]."
      ]
    },
    {
      "cell_type": "code",
      "execution_count": 67,
      "metadata": {
        "colab": {
          "base_uri": "https://localhost:8080/"
        },
        "id": "1b5b9aae",
        "outputId": "500d4ecc-6706-4252-beaa-541ceaf34554"
      },
      "outputs": [
        {
          "name": "stdout",
          "output_type": "stream",
          "text": [
            "[50, 40, 30, 20, 10]\n"
          ]
        }
      ],
      "source": [
        "data = [x for x in range(10,60,10)]\n",
        "print(data[::-1])"
      ]
    }
  ],
  "metadata": {
    "colab": {
      "authorship_tag": "ABX9TyMF9hk53S0aEqggnKxp+Utp",
      "include_colab_link": true,
      "provenance": []
    },
    "kernelspec": {
      "display_name": "Python 3",
      "name": "python3"
    },
    "language_info": {
      "codemirror_mode": {
        "name": "ipython",
        "version": 3
      },
      "file_extension": ".py",
      "mimetype": "text/x-python",
      "name": "python",
      "nbconvert_exporter": "python",
      "pygments_lexer": "ipython3",
      "version": "3.12.3"
    }
  },
  "nbformat": 4,
  "nbformat_minor": 0
}
